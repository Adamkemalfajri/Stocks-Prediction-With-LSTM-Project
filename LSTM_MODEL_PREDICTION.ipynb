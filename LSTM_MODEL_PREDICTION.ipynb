{
 "cells": [
  {
   "cell_type": "code",
   "execution_count": 5,
   "metadata": {
    "id": "feLj-Z1W6d8_"
   },
   "outputs": [],
   "source": [
    "import os\n",
    "import keras\n",
    "os.environ['KERAS_BACKEND']='tensorflow'"
   ]
  },
  {
   "cell_type": "code",
   "execution_count": 6,
   "metadata": {
    "id": "8G2aPGUv2CBN"
   },
   "outputs": [],
   "source": [
    "#importing libraries\n",
    "import math\n",
    "import keras\n",
    "from sklearn.preprocessing import MinMaxScaler\n",
    "from keras.models import Sequential\n",
    "from keras.layers import Dense , BatchNormalization , Dropout , Activation\n",
    "from keras.layers import LSTM , GRU\n",
    "from sklearn.preprocessing import MinMaxScaler\n",
    "from sklearn.metrics import mean_squared_error\n",
    "from keras.optimizers import Adam , SGD , RMSprop"
   ]
  },
  {
   "cell_type": "code",
   "execution_count": 7,
   "metadata": {
    "id": "r5Rmaynq_UZd"
   },
   "outputs": [],
   "source": [
    "import pandas as pd\n",
    "import numpy as np\n",
    "import seaborn as sns\n",
    "import matplotlib.pyplot as plt\n",
    "\n",
    "data = pd.read_csv(r'E:\\DATA_TA\\Data\\AALI.JK.csv')"
   ]
  },
  {
   "cell_type": "code",
   "execution_count": 3,
   "metadata": {
    "colab": {
     "base_uri": "https://localhost:8080/",
     "height": 198
    },
    "id": "8Z_X2o3lRvU5",
    "outputId": "fac76481-1226-4f03-9c61-7fa768c02aa4"
   },
   "outputs": [
    {
     "data": {
      "text/html": [
       "<div>\n",
       "<style scoped>\n",
       "    .dataframe tbody tr th:only-of-type {\n",
       "        vertical-align: middle;\n",
       "    }\n",
       "\n",
       "    .dataframe tbody tr th {\n",
       "        vertical-align: top;\n",
       "    }\n",
       "\n",
       "    .dataframe thead th {\n",
       "        text-align: right;\n",
       "    }\n",
       "</style>\n",
       "<table border=\"1\" class=\"dataframe\">\n",
       "  <thead>\n",
       "    <tr style=\"text-align: right;\">\n",
       "      <th></th>\n",
       "      <th>Date</th>\n",
       "      <th>Open</th>\n",
       "      <th>High</th>\n",
       "      <th>Low</th>\n",
       "      <th>Close</th>\n",
       "      <th>Adj Close</th>\n",
       "      <th>Volume</th>\n",
       "    </tr>\n",
       "  </thead>\n",
       "  <tbody>\n",
       "    <tr>\n",
       "      <th>0</th>\n",
       "      <td>2015-01-02</td>\n",
       "      <td>23154.279297</td>\n",
       "      <td>23821.275391</td>\n",
       "      <td>23106.636719</td>\n",
       "      <td>23416.314453</td>\n",
       "      <td>20657.943359</td>\n",
       "      <td>1385945</td>\n",
       "    </tr>\n",
       "    <tr>\n",
       "      <th>1</th>\n",
       "      <td>2015-01-05</td>\n",
       "      <td>23440.134766</td>\n",
       "      <td>23535.419922</td>\n",
       "      <td>23201.921875</td>\n",
       "      <td>23511.599609</td>\n",
       "      <td>20742.003906</td>\n",
       "      <td>619089</td>\n",
       "    </tr>\n",
       "    <tr>\n",
       "      <th>2</th>\n",
       "      <td>2015-01-06</td>\n",
       "      <td>23416.314453</td>\n",
       "      <td>23416.314453</td>\n",
       "      <td>23035.173828</td>\n",
       "      <td>23154.279297</td>\n",
       "      <td>20426.775391</td>\n",
       "      <td>1142676</td>\n",
       "    </tr>\n",
       "    <tr>\n",
       "      <th>3</th>\n",
       "      <td>2015-01-07</td>\n",
       "      <td>23154.279297</td>\n",
       "      <td>23535.419922</td>\n",
       "      <td>23154.279297</td>\n",
       "      <td>23535.419922</td>\n",
       "      <td>20763.019531</td>\n",
       "      <td>1882560</td>\n",
       "    </tr>\n",
       "    <tr>\n",
       "      <th>4</th>\n",
       "      <td>2015-01-08</td>\n",
       "      <td>23678.347656</td>\n",
       "      <td>24178.595703</td>\n",
       "      <td>23678.347656</td>\n",
       "      <td>24035.667969</td>\n",
       "      <td>21204.339844</td>\n",
       "      <td>1504852</td>\n",
       "    </tr>\n",
       "  </tbody>\n",
       "</table>\n",
       "</div>"
      ],
      "text/plain": [
       "         Date          Open          High           Low         Close  \\\n",
       "0  2015-01-02  23154.279297  23821.275391  23106.636719  23416.314453   \n",
       "1  2015-01-05  23440.134766  23535.419922  23201.921875  23511.599609   \n",
       "2  2015-01-06  23416.314453  23416.314453  23035.173828  23154.279297   \n",
       "3  2015-01-07  23154.279297  23535.419922  23154.279297  23535.419922   \n",
       "4  2015-01-08  23678.347656  24178.595703  23678.347656  24035.667969   \n",
       "\n",
       "      Adj Close   Volume  \n",
       "0  20657.943359  1385945  \n",
       "1  20742.003906   619089  \n",
       "2  20426.775391  1142676  \n",
       "3  20763.019531  1882560  \n",
       "4  21204.339844  1504852  "
      ]
     },
     "execution_count": 3,
     "metadata": {},
     "output_type": "execute_result"
    }
   ],
   "source": [
    "data.head()"
   ]
  },
  {
   "cell_type": "markdown",
   "metadata": {
    "id": "VYfFyZ-RGwAs"
   },
   "source": [
    "The profit or loss calculation is usually determined by the closing price of a stock for the day, hence we will consider the closing price as the target variable and drop the other columns."
   ]
  },
  {
   "cell_type": "code",
   "execution_count": 4,
   "metadata": {
    "id": "6xqOc2fnRyim"
   },
   "outputs": [],
   "source": [
    "data.drop(['Adj Close','Open','Low','High','Volume'],axis=1,inplace=True)"
   ]
  },
  {
   "cell_type": "code",
   "execution_count": null,
   "metadata": {},
   "outputs": [],
   "source": []
  },
  {
   "cell_type": "code",
   "execution_count": 5,
   "metadata": {
    "colab": {
     "base_uri": "https://localhost:8080/",
     "height": 198
    },
    "id": "7VRYcJuSVYze",
    "outputId": "0cdc2866-ae3e-4ac2-da4c-7e0972bc0de5"
   },
   "outputs": [
    {
     "data": {
      "text/html": [
       "<div>\n",
       "<style scoped>\n",
       "    .dataframe tbody tr th:only-of-type {\n",
       "        vertical-align: middle;\n",
       "    }\n",
       "\n",
       "    .dataframe tbody tr th {\n",
       "        vertical-align: top;\n",
       "    }\n",
       "\n",
       "    .dataframe thead th {\n",
       "        text-align: right;\n",
       "    }\n",
       "</style>\n",
       "<table border=\"1\" class=\"dataframe\">\n",
       "  <thead>\n",
       "    <tr style=\"text-align: right;\">\n",
       "      <th></th>\n",
       "      <th>Date</th>\n",
       "      <th>Close</th>\n",
       "    </tr>\n",
       "  </thead>\n",
       "  <tbody>\n",
       "    <tr>\n",
       "      <th>0</th>\n",
       "      <td>2015-01-02</td>\n",
       "      <td>23416.314453</td>\n",
       "    </tr>\n",
       "    <tr>\n",
       "      <th>1</th>\n",
       "      <td>2015-01-05</td>\n",
       "      <td>23511.599609</td>\n",
       "    </tr>\n",
       "    <tr>\n",
       "      <th>2</th>\n",
       "      <td>2015-01-06</td>\n",
       "      <td>23154.279297</td>\n",
       "    </tr>\n",
       "    <tr>\n",
       "      <th>3</th>\n",
       "      <td>2015-01-07</td>\n",
       "      <td>23535.419922</td>\n",
       "    </tr>\n",
       "    <tr>\n",
       "      <th>4</th>\n",
       "      <td>2015-01-08</td>\n",
       "      <td>24035.667969</td>\n",
       "    </tr>\n",
       "  </tbody>\n",
       "</table>\n",
       "</div>"
      ],
      "text/plain": [
       "         Date         Close\n",
       "0  2015-01-02  23416.314453\n",
       "1  2015-01-05  23511.599609\n",
       "2  2015-01-06  23154.279297\n",
       "3  2015-01-07  23535.419922\n",
       "4  2015-01-08  24035.667969"
      ]
     },
     "execution_count": 5,
     "metadata": {},
     "output_type": "execute_result"
    }
   ],
   "source": [
    "data.head()"
   ]
  },
  {
   "cell_type": "code",
   "execution_count": 6,
   "metadata": {},
   "outputs": [
    {
     "data": {
      "text/plain": [
       "<matplotlib.axes._subplots.AxesSubplot at 0x2455868a148>"
      ]
     },
     "execution_count": 6,
     "metadata": {},
     "output_type": "execute_result"
    },
    {
     "data": {
      "image/png": "[encoded data removed]",
      "text/plain": [
       "<Figure size 1080x576 with 1 Axes>"
      ]
     },
     "metadata": {
      "needs_background": "light"
     },
     "output_type": "display_data"
    }
   ],
   "source": [
    "df = pd.read_csv(r'E:\\DATA_TA\\Data\\AALI.JK.csv',index_col='Date',parse_dates=True,infer_datetime_format=True)\n",
    "df1=df['Close']\n",
    "fig,ax = plt.subplots(figsize=(15,8))\n",
    "df1.plot()"
   ]
  },
  {
   "cell_type": "markdown",
   "metadata": {
    "id": "sM3JTxARG6v-"
   },
   "source": [
    "Now, the dtype of date is object. We'll convert that into date-time and will make it as the index for our dataframe."
   ]
  },
  {
   "cell_type": "code",
   "execution_count": 7,
   "metadata": {
    "id": "HWGM-tQ6VlBY"
   },
   "outputs": [],
   "source": [
    "data['Date'] = pd.to_datetime(data['Date'], infer_datetime_format=True)\n"
   ]
  },
  {
   "cell_type": "code",
   "execution_count": 8,
   "metadata": {
    "id": "oRS8DpN1WJOI"
   },
   "outputs": [],
   "source": [
    "data.index=data.Date"
   ]
  },
  {
   "cell_type": "code",
   "execution_count": 9,
   "metadata": {
    "id": "SLg_WfPmcyZN"
   },
   "outputs": [],
   "source": [
    "data.drop('Date', axis=1,inplace=True)"
   ]
  },
  {
   "cell_type": "code",
   "execution_count": 10,
   "metadata": {
    "colab": {
     "base_uri": "https://localhost:8080/",
     "height": 228
    },
    "id": "1FjEGDJic9lL",
    "outputId": "33c2bf48-f7d9-4594-97f8-1020dd2004d8"
   },
   "outputs": [
    {
     "data": {
      "text/html": [
       "<div>\n",
       "<style scoped>\n",
       "    .dataframe tbody tr th:only-of-type {\n",
       "        vertical-align: middle;\n",
       "    }\n",
       "\n",
       "    .dataframe tbody tr th {\n",
       "        vertical-align: top;\n",
       "    }\n",
       "\n",
       "    .dataframe thead th {\n",
       "        text-align: right;\n",
       "    }\n",
       "</style>\n",
       "<table border=\"1\" class=\"dataframe\">\n",
       "  <thead>\n",
       "    <tr style=\"text-align: right;\">\n",
       "      <th></th>\n",
       "      <th>Close</th>\n",
       "    </tr>\n",
       "    <tr>\n",
       "      <th>Date</th>\n",
       "      <th></th>\n",
       "    </tr>\n",
       "  </thead>\n",
       "  <tbody>\n",
       "    <tr>\n",
       "      <th>2015-01-02</th>\n",
       "      <td>23416.314453</td>\n",
       "    </tr>\n",
       "    <tr>\n",
       "      <th>2015-01-05</th>\n",
       "      <td>23511.599609</td>\n",
       "    </tr>\n",
       "    <tr>\n",
       "      <th>2015-01-06</th>\n",
       "      <td>23154.279297</td>\n",
       "    </tr>\n",
       "    <tr>\n",
       "      <th>2015-01-07</th>\n",
       "      <td>23535.419922</td>\n",
       "    </tr>\n",
       "    <tr>\n",
       "      <th>2015-01-08</th>\n",
       "      <td>24035.667969</td>\n",
       "    </tr>\n",
       "  </tbody>\n",
       "</table>\n",
       "</div>"
      ],
      "text/plain": [
       "                   Close\n",
       "Date                    \n",
       "2015-01-02  23416.314453\n",
       "2015-01-05  23511.599609\n",
       "2015-01-06  23154.279297\n",
       "2015-01-07  23535.419922\n",
       "2015-01-08  24035.667969"
      ]
     },
     "execution_count": 10,
     "metadata": {},
     "output_type": "execute_result"
    }
   ],
   "source": [
    "data.head()"
   ]
  },
  {
   "cell_type": "code",
   "execution_count": 11,
   "metadata": {},
   "outputs": [
    {
     "data": {
      "text/html": [
       "<div>\n",
       "<style scoped>\n",
       "    .dataframe tbody tr th:only-of-type {\n",
       "        vertical-align: middle;\n",
       "    }\n",
       "\n",
       "    .dataframe tbody tr th {\n",
       "        vertical-align: top;\n",
       "    }\n",
       "\n",
       "    .dataframe thead th {\n",
       "        text-align: right;\n",
       "    }\n",
       "</style>\n",
       "<table border=\"1\" class=\"dataframe\">\n",
       "  <thead>\n",
       "    <tr style=\"text-align: right;\">\n",
       "      <th></th>\n",
       "      <th>Close</th>\n",
       "    </tr>\n",
       "    <tr>\n",
       "      <th>Date</th>\n",
       "      <th></th>\n",
       "    </tr>\n",
       "  </thead>\n",
       "  <tbody>\n",
       "    <tr>\n",
       "      <th>2019-12-11</th>\n",
       "      <td>13325.0</td>\n",
       "    </tr>\n",
       "    <tr>\n",
       "      <th>2019-12-12</th>\n",
       "      <td>13250.0</td>\n",
       "    </tr>\n",
       "    <tr>\n",
       "      <th>2019-12-13</th>\n",
       "      <td>13425.0</td>\n",
       "    </tr>\n",
       "    <tr>\n",
       "      <th>2019-12-16</th>\n",
       "      <td>13400.0</td>\n",
       "    </tr>\n",
       "    <tr>\n",
       "      <th>2019-12-17</th>\n",
       "      <td>13600.0</td>\n",
       "    </tr>\n",
       "    <tr>\n",
       "      <th>...</th>\n",
       "      <td>...</td>\n",
       "    </tr>\n",
       "    <tr>\n",
       "      <th>2021-03-24</th>\n",
       "      <td>10650.0</td>\n",
       "    </tr>\n",
       "    <tr>\n",
       "      <th>2021-03-25</th>\n",
       "      <td>10650.0</td>\n",
       "    </tr>\n",
       "    <tr>\n",
       "      <th>2021-03-26</th>\n",
       "      <td>10775.0</td>\n",
       "    </tr>\n",
       "    <tr>\n",
       "      <th>2021-03-29</th>\n",
       "      <td>10600.0</td>\n",
       "    </tr>\n",
       "    <tr>\n",
       "      <th>2021-03-30</th>\n",
       "      <td>10175.0</td>\n",
       "    </tr>\n",
       "  </tbody>\n",
       "</table>\n",
       "<p>314 rows × 1 columns</p>\n",
       "</div>"
      ],
      "text/plain": [
       "              Close\n",
       "Date               \n",
       "2019-12-11  13325.0\n",
       "2019-12-12  13250.0\n",
       "2019-12-13  13425.0\n",
       "2019-12-16  13400.0\n",
       "2019-12-17  13600.0\n",
       "...             ...\n",
       "2021-03-24  10650.0\n",
       "2021-03-25  10650.0\n",
       "2021-03-26  10775.0\n",
       "2021-03-29  10600.0\n",
       "2021-03-30  10175.0\n",
       "\n",
       "[314 rows x 1 columns]"
      ]
     },
     "execution_count": 11,
     "metadata": {},
     "output_type": "execute_result"
    }
   ],
   "source": [
    "data.tail(314)"
   ]
  },
  {
   "cell_type": "code",
   "execution_count": 12,
   "metadata": {
    "id": "pcsNo88PdBXO"
   },
   "outputs": [],
   "source": [
    "dataset=data.values"
   ]
  },
  {
   "cell_type": "code",
   "execution_count": 220,
   "metadata": {
    "id": "bNFrfrCJdOOF"
   },
   "outputs": [],
   "source": [
    "#scale the dataset\n",
    "from sklearn.preprocessing import MinMaxScaler\n",
    "scaler = MinMaxScaler(feature_range=(0, 1))\n",
    "dataset = scaler.fit_transform(dataset)"
   ]
  },
  {
   "cell_type": "code",
   "execution_count": 221,
   "metadata": {
    "id": "-6dVfh8FeSDt"
   },
   "outputs": [],
   "source": [
    "#we'll use 80% of the data as training data \n",
    "train = int(len(dataset) * 0.80)\n",
    "test = len(dataset) - train "
   ]
  },
  {
   "cell_type": "code",
   "execution_count": 222,
   "metadata": {
    "colab": {
     "base_uri": "https://localhost:8080/"
    },
    "id": "0v2Mfv3tPQLM",
    "outputId": "17c4106b-25b9-4afa-fad0-64dec11135cb"
   },
   "outputs": [
    {
     "name": "stdout",
     "output_type": "stream",
     "text": [
      "1252 314\n"
     ]
    }
   ],
   "source": [
    "print(train, test)"
   ]
  },
  {
   "cell_type": "code",
   "execution_count": 223,
   "metadata": {
    "id": "_oZQ4423Pa-2"
   },
   "outputs": [],
   "source": [
    "train= dataset[:train]\n",
    "test = dataset[len(train):]"
   ]
  },
  {
   "cell_type": "code",
   "execution_count": 224,
   "metadata": {
    "colab": {
     "base_uri": "https://localhost:8080/"
    },
    "id": "2cgdMsRnPmq5",
    "outputId": "e21e8724-467b-4b73-fc17-9bb1bd42edbb"
   },
   "outputs": [
    {
     "data": {
      "text/plain": [
       "(1252, 1)"
      ]
     },
     "execution_count": 224,
     "metadata": {},
     "output_type": "execute_result"
    }
   ],
   "source": [
    "train.shape"
   ]
  },
  {
   "cell_type": "code",
   "execution_count": 225,
   "metadata": {
    "colab": {
     "base_uri": "https://localhost:8080/"
    },
    "id": "02yZgqPPSji8",
    "outputId": "42218522-7325-4394-89c7-50d44c5addaf"
   },
   "outputs": [
    {
     "data": {
      "text/plain": [
       "(314, 1)"
      ]
     },
     "execution_count": 225,
     "metadata": {},
     "output_type": "execute_result"
    }
   ],
   "source": [
    "test.shape"
   ]
  },
  {
   "cell_type": "code",
   "execution_count": 226,
   "metadata": {
    "id": "CXq6IudRdr6T"
   },
   "outputs": [],
   "source": [
    "#I'll use past two days data to predict the price for next day. I tried a few numbers and this was giving least error. Therefore, I thought of using this.\n",
    "x_train, y_train = [], []\n",
    "for i in range(len(train)-2):\n",
    "    x_train.append(dataset[i:i+2,0])\n",
    "    y_train.append(dataset[i+2,0])\n",
    "x_train, y_train = np.array(x_train), np.array(y_train)"
   ]
  },
  {
   "cell_type": "code",
   "execution_count": 227,
   "metadata": {
    "colab": {
     "base_uri": "https://localhost:8080/"
    },
    "id": "wAobgPdUWH8q",
    "outputId": "37ad0238-7970-4eb0-db4c-db0e4eb1ea19"
   },
   "outputs": [
    {
     "data": {
      "text/plain": [
       "(1250, 2)"
      ]
     },
     "execution_count": 227,
     "metadata": {},
     "output_type": "execute_result"
    }
   ],
   "source": [
    "x_train.shape"
   ]
  },
  {
   "cell_type": "code",
   "execution_count": 228,
   "metadata": {
    "colab": {
     "base_uri": "https://localhost:8080/"
    },
    "id": "tu0LkrbZfKse",
    "outputId": "a57d3c29-dba2-44b3-884a-ae30c2508658"
   },
   "outputs": [
    {
     "data": {
      "text/plain": [
       "(1250, 2, 1)"
      ]
     },
     "execution_count": 228,
     "metadata": {},
     "output_type": "execute_result"
    }
   ],
   "source": [
    "x_train = np.reshape(x_train, (x_train.shape[0],x_train.shape[1],1))\n",
    "x_train.shape"
   ]
  },
  {
   "cell_type": "code",
   "execution_count": 229,
   "metadata": {
    "colab": {
     "base_uri": "https://localhost:8080/"
    },
    "id": "lUrJ8bjbULip",
    "outputId": "1cd32f58-7e17-45d5-881f-7f9ace60120f"
   },
   "outputs": [
    {
     "data": {
      "text/plain": [
       "(1250, 2, 1)"
      ]
     },
     "execution_count": 229,
     "metadata": {},
     "output_type": "execute_result"
    }
   ],
   "source": [
    "x_train.shape"
   ]
  },
  {
   "cell_type": "code",
   "execution_count": 230,
   "metadata": {
    "id": "ArQtcFZHOjOq"
   },
   "outputs": [],
   "source": [
    "x_test = []\n",
    "y_test=[]\n",
    "for i in range(len(test)-2):\n",
    "    x_test.append(dataset[len(train)-2+i:len(train)+i,0])\n",
    "    y_test.append(dataset[len(train)+i,0])\n",
    "x_test = np.array(x_test)\n",
    "y_test = np.array(y_test)"
   ]
  },
  {
   "cell_type": "code",
   "execution_count": 231,
   "metadata": {
    "colab": {
     "base_uri": "https://localhost:8080/"
    },
    "id": "6HWO-0k2QyHA",
    "outputId": "8f706721-9cfc-4868-a1f3-2563895df818"
   },
   "outputs": [
    {
     "data": {
      "text/plain": [
       "(312, 2, 1)"
      ]
     },
     "execution_count": 231,
     "metadata": {},
     "output_type": "execute_result"
    }
   ],
   "source": [
    "x_test = np.reshape(x_test, (x_test.shape[0],x_test.shape[1],1))\n",
    "x_test.shape"
   ]
  },
  {
   "cell_type": "code",
   "execution_count": 232,
   "metadata": {},
   "outputs": [
    {
     "data": {
      "text/plain": [
       "1250"
      ]
     },
     "execution_count": 232,
     "metadata": {},
     "output_type": "execute_result"
    }
   ],
   "source": [
    "len(x_train)"
   ]
  },
  {
   "cell_type": "markdown",
   "metadata": {
    "id": "8NaoCnkFO-2m"
   },
   "source": [
    "I will use LSTM to predict the stock price because LSTM stores the past information in predicting the future."
   ]
  },
  {
   "cell_type": "markdown",
   "metadata": {},
   "source": [
    "#I've used a LSTM model to predict the stock price. i checked for various other models but this was giving the least error. Therefore, I've used that\n",
    "from keras.callbacks import EarlyStopping\n",
    "fa = 'tanh'\n",
    "epoch = 100\n",
    "bs = 256\n",
    "model= Sequential([\n",
    "                   LSTM(265, input_shape=(x_train.shape[1],1), return_sequences=True),\n",
    "                   LSTM(265),\n",
    "                   Dense(16, activation=fa),\n",
    "                   Dense(1)\n",
    "])\n",
    "print(model.summary())\n",
    "early_stop = EarlyStopping(monitor='loss', patience=5, verbose=1)"
   ]
  },
  {
   "cell_type": "code",
   "execution_count": 233,
   "metadata": {
    "colab": {
     "base_uri": "https://localhost:8080/"
    },
    "id": "ZxB3HrvFf7nu",
    "outputId": "3d207398-e5db-41bd-b89c-d84117cd6030"
   },
   "outputs": [
    {
     "name": "stdout",
     "output_type": "stream",
     "text": [
      "Model: \"sequential_8\"\n",
      "_________________________________________________________________\n",
      "Layer (type)                 Output Shape              Param #   \n",
      "=================================================================\n",
      "lstm_15 (LSTM)               (None, 2, 265)            283020    \n",
      "_________________________________________________________________\n",
      "lstm_16 (LSTM)               (None, 265)               562860    \n",
      "_________________________________________________________________\n",
      "dense_15 (Dense)             (None, 16)                4256      \n",
      "_________________________________________________________________\n",
      "dense_16 (Dense)             (None, 1)                 17        \n",
      "=================================================================\n",
      "Total params: 850,153\n",
      "Trainable params: 850,153\n",
      "Non-trainable params: 0\n",
      "_________________________________________________________________\n",
      "None\n"
     ]
    }
   ],
   "source": [
    "#I've used a LSTM model to predict the stock price. i checked for various other models but this was giving the least error. Therefore, I've used that\n",
    "from keras.callbacks import EarlyStopping\n",
    "fa = 'tanh'\n",
    "epoch = 100\n",
    "bs = 256\n",
    "lrt = 0.0005\n",
    "model= Sequential([\n",
    "                   LSTM(265, input_shape=(x_train.shape[1],1), return_sequences=True),\n",
    "                   LSTM(265),\n",
    "                   Dense(16),\n",
    "                   Dense(1)\n",
    "])\n",
    "print(model.summary())\n",
    "early_stop = EarlyStopping(monitor='loss', patience=5, verbose=1)"
   ]
  },
  {
   "cell_type": "markdown",
   "metadata": {
    "id": "ZxvEgpY5t6W9"
   },
   "source": [
    "model.compile(loss='mean_squared_error', optimizer=Adam(lr = lrt) , metrics = ['mean_squared_error','accuracy'])"
   ]
  },
  {
   "cell_type": "code",
   "execution_count": 234,
   "metadata": {},
   "outputs": [],
   "source": [
    "model.compile(loss='mean_squared_error', optimizer='adam' , metrics = ['mean_squared_error','accuracy'])"
   ]
  },
  {
   "cell_type": "code",
   "execution_count": 235,
   "metadata": {
    "colab": {
     "base_uri": "https://localhost:8080/"
    },
    "id": "yxvE_EcrgKec",
    "outputId": "8a13206d-d7f4-4dc0-caa6-1aeb4f454020"
   },
   "outputs": [
    {
     "name": "stdout",
     "output_type": "stream",
     "text": [
      "Train on 1250 samples, validate on 312 samples\n",
      "Epoch 1/100\n",
      "1250/1250 [==============================] - 2s 2ms/step - loss: 0.2227 - mean_squared_error: 0.2227 - accuracy: 0.0000e+00 - val_loss: 0.0201 - val_mean_squared_error: 0.0201 - val_accuracy: 0.0032\n",
      "Epoch 2/100\n",
      "1250/1250 [==============================] - 0s 350us/step - loss: 0.0702 - mean_squared_error: 0.0702 - accuracy: 0.0000e+00 - val_loss: 0.0204 - val_mean_squared_error: 0.0204 - val_accuracy: 0.0032\n",
      "Epoch 3/100\n",
      "1250/1250 [==============================] - 0s 397us/step - loss: 0.0304 - mean_squared_error: 0.0304 - accuracy: 8.0000e-04 - val_loss: 0.0508 - val_mean_squared_error: 0.0508 - val_accuracy: 0.0032\n",
      "Epoch 4/100\n",
      "1250/1250 [==============================] - 1s 435us/step - loss: 0.0104 - mean_squared_error: 0.0104 - accuracy: 8.0000e-04 - val_loss: 0.0076 - val_mean_squared_error: 0.0076 - val_accuracy: 0.0032\n",
      "Epoch 5/100\n",
      "1250/1250 [==============================] - 1s 457us/step - loss: 0.0083 - mean_squared_error: 0.0083 - accuracy: 8.0000e-04 - val_loss: 0.0037 - val_mean_squared_error: 0.0037 - val_accuracy: 0.0032\n",
      "Epoch 6/100\n",
      "1250/1250 [==============================] - 1s 436us/step - loss: 0.0152 - mean_squared_error: 0.0152 - accuracy: 8.0000e-04 - val_loss: 0.0069 - val_mean_squared_error: 0.0069 - val_accuracy: 0.0032\n",
      "Epoch 7/100\n",
      "1250/1250 [==============================] - 1s 456us/step - loss: 0.0087 - mean_squared_error: 0.0087 - accuracy: 8.0000e-04 - val_loss: 0.0172 - val_mean_squared_error: 0.0172 - val_accuracy: 0.0032\n",
      "Epoch 8/100\n",
      "1250/1250 [==============================] - 1s 520us/step - loss: 0.0066 - mean_squared_error: 0.0066 - accuracy: 8.0000e-04 - val_loss: 0.0139 - val_mean_squared_error: 0.0139 - val_accuracy: 0.0032\n",
      "Epoch 9/100\n",
      "1250/1250 [==============================] - 1s 502us/step - loss: 0.0026 - mean_squared_error: 0.0026 - accuracy: 8.0000e-04 - val_loss: 0.0058 - val_mean_squared_error: 0.0058 - val_accuracy: 0.0032\n",
      "Epoch 10/100\n",
      "1250/1250 [==============================] - 1s 450us/step - loss: 0.0037 - mean_squared_error: 0.0037 - accuracy: 8.0000e-04 - val_loss: 0.0043 - val_mean_squared_error: 0.0043 - val_accuracy: 0.0032\n",
      "Epoch 11/100\n",
      "1250/1250 [==============================] - 1s 624us/step - loss: 0.0040 - mean_squared_error: 0.0040 - accuracy: 8.0000e-04 - val_loss: 0.0059 - val_mean_squared_error: 0.0059 - val_accuracy: 0.0032\n",
      "Epoch 12/100\n",
      "1250/1250 [==============================] - 1s 520us/step - loss: 0.0027 - mean_squared_error: 0.0027 - accuracy: 8.0000e-04 - val_loss: 0.0057 - val_mean_squared_error: 0.0057 - val_accuracy: 0.0032\n",
      "Epoch 13/100\n",
      "1250/1250 [==============================] - 1s 452us/step - loss: 0.0015 - mean_squared_error: 0.0015 - accuracy: 8.0000e-04 - val_loss: 0.0029 - val_mean_squared_error: 0.0029 - val_accuracy: 0.0032\n",
      "Epoch 14/100\n",
      "1250/1250 [==============================] - 0s 390us/step - loss: 0.0013 - mean_squared_error: 0.0013 - accuracy: 8.0000e-04 - val_loss: 0.0018 - val_mean_squared_error: 0.0018 - val_accuracy: 0.0032\n",
      "Epoch 15/100\n",
      "1250/1250 [==============================] - 1s 449us/step - loss: 0.0012 - mean_squared_error: 0.0012 - accuracy: 8.0000e-04 - val_loss: 0.0018 - val_mean_squared_error: 0.0018 - val_accuracy: 0.0032\n",
      "Epoch 16/100\n",
      "1250/1250 [==============================] - 1s 443us/step - loss: 7.7724e-04 - mean_squared_error: 7.7724e-04 - accuracy: 8.0000e-04 - val_loss: 0.0013 - val_mean_squared_error: 0.0013 - val_accuracy: 0.0032\n",
      "Epoch 17/100\n",
      "1250/1250 [==============================] - 0s 387us/step - loss: 5.0200e-04 - mean_squared_error: 5.0200e-04 - accuracy: 8.0000e-04 - val_loss: 6.6790e-04 - val_mean_squared_error: 6.6790e-04 - val_accuracy: 0.0032\n",
      "Epoch 18/100\n",
      "1250/1250 [==============================] - 0s 395us/step - loss: 5.0942e-04 - mean_squared_error: 5.0942e-04 - accuracy: 8.0000e-04 - val_loss: 5.3202e-04 - val_mean_squared_error: 5.3202e-04 - val_accuracy: 0.0032\n",
      "Epoch 19/100\n",
      "1250/1250 [==============================] - 1s 420us/step - loss: 4.4212e-04 - mean_squared_error: 4.4212e-04 - accuracy: 8.0000e-04 - val_loss: 4.7942e-04 - val_mean_squared_error: 4.7942e-04 - val_accuracy: 0.0032\n",
      "Epoch 20/100\n",
      "1250/1250 [==============================] - 1s 410us/step - loss: 4.1425e-04 - mean_squared_error: 4.1425e-04 - accuracy: 8.0000e-04 - val_loss: 3.5910e-04 - val_mean_squared_error: 3.5910e-04 - val_accuracy: 0.0032\n",
      "Epoch 21/100\n",
      "1250/1250 [==============================] - 0s 390us/step - loss: 4.2282e-04 - mean_squared_error: 4.2282e-04 - accuracy: 8.0000e-04 - val_loss: 3.3448e-04 - val_mean_squared_error: 3.3448e-04 - val_accuracy: 0.0032\n",
      "Epoch 22/100\n",
      "1250/1250 [==============================] - 0s 377us/step - loss: 4.2191e-04 - mean_squared_error: 4.2191e-04 - accuracy: 8.0000e-04 - val_loss: 3.4527e-04 - val_mean_squared_error: 3.4527e-04 - val_accuracy: 0.0032\n",
      "Epoch 23/100\n",
      "1250/1250 [==============================] - 1s 412us/step - loss: 4.2670e-04 - mean_squared_error: 4.2670e-04 - accuracy: 8.0000e-04 - val_loss: 3.3166e-04 - val_mean_squared_error: 3.3166e-04 - val_accuracy: 0.0032\n",
      "Epoch 24/100\n",
      "1250/1250 [==============================] - 1s 476us/step - loss: 4.2544e-04 - mean_squared_error: 4.2544e-04 - accuracy: 8.0000e-04 - val_loss: 3.3780e-04 - val_mean_squared_error: 3.3780e-04 - val_accuracy: 0.0032\n",
      "Epoch 25/100\n",
      "1250/1250 [==============================] - 1s 436us/step - loss: 4.2228e-04 - mean_squared_error: 4.2228e-04 - accuracy: 8.0000e-04 - val_loss: 3.5913e-04 - val_mean_squared_error: 3.5913e-04 - val_accuracy: 0.0032\n",
      "Epoch 26/100\n",
      "1250/1250 [==============================] - 1s 443us/step - loss: 4.2076e-04 - mean_squared_error: 4.2076e-04 - accuracy: 8.0000e-04 - val_loss: 3.6227e-04 - val_mean_squared_error: 3.6227e-04 - val_accuracy: 0.0032\n",
      "Epoch 27/100\n",
      "1250/1250 [==============================] - 0s 379us/step - loss: 4.1961e-04 - mean_squared_error: 4.1961e-04 - accuracy: 8.0000e-04 - val_loss: 3.7303e-04 - val_mean_squared_error: 3.7303e-04 - val_accuracy: 0.0032\n",
      "Epoch 28/100\n",
      "1250/1250 [==============================] - 0s 385us/step - loss: 4.1892e-04 - mean_squared_error: 4.1892e-04 - accuracy: 8.0000e-04 - val_loss: 3.8655e-04 - val_mean_squared_error: 3.8655e-04 - val_accuracy: 0.0032\n",
      "Epoch 29/100\n",
      "1250/1250 [==============================] - 0s 389us/step - loss: 4.1780e-04 - mean_squared_error: 4.1780e-04 - accuracy: 8.0000e-04 - val_loss: 3.8589e-04 - val_mean_squared_error: 3.8589e-04 - val_accuracy: 0.0032\n",
      "Epoch 30/100\n",
      "1250/1250 [==============================] - 0s 375us/step - loss: 4.1818e-04 - mean_squared_error: 4.1818e-04 - accuracy: 8.0000e-04 - val_loss: 3.8920e-04 - val_mean_squared_error: 3.8920e-04 - val_accuracy: 0.0032\n",
      "Epoch 31/100\n",
      "1250/1250 [==============================] - 0s 355us/step - loss: 4.1792e-04 - mean_squared_error: 4.1792e-04 - accuracy: 8.0000e-04 - val_loss: 3.9062e-04 - val_mean_squared_error: 3.9062e-04 - val_accuracy: 0.0032\n",
      "Epoch 32/100\n",
      "1250/1250 [==============================] - 0s 378us/step - loss: 4.1738e-04 - mean_squared_error: 4.1738e-04 - accuracy: 8.0000e-04 - val_loss: 3.8611e-04 - val_mean_squared_error: 3.8611e-04 - val_accuracy: 0.0032\n",
      "Epoch 33/100\n",
      "1250/1250 [==============================] - 0s 382us/step - loss: 4.1767e-04 - mean_squared_error: 4.1767e-04 - accuracy: 8.0000e-04 - val_loss: 3.8521e-04 - val_mean_squared_error: 3.8521e-04 - val_accuracy: 0.0032\n",
      "Epoch 34/100\n",
      "1250/1250 [==============================] - 0s 346us/step - loss: 4.1738e-04 - mean_squared_error: 4.1738e-04 - accuracy: 8.0000e-04 - val_loss: 3.8273e-04 - val_mean_squared_error: 3.8273e-04 - val_accuracy: 0.0032\n",
      "Epoch 35/100\n",
      "1250/1250 [==============================] - 0s 355us/step - loss: 4.1728e-04 - mean_squared_error: 4.1728e-04 - accuracy: 8.0000e-04 - val_loss: 3.7968e-04 - val_mean_squared_error: 3.7968e-04 - val_accuracy: 0.0032\n",
      "Epoch 36/100\n",
      "1250/1250 [==============================] - 0s 386us/step - loss: 4.1739e-04 - mean_squared_error: 4.1739e-04 - accuracy: 8.0000e-04 - val_loss: 3.7897e-04 - val_mean_squared_error: 3.7897e-04 - val_accuracy: 0.0032\n",
      "Epoch 37/100\n",
      "1250/1250 [==============================] - 1s 428us/step - loss: 4.1722e-04 - mean_squared_error: 4.1722e-04 - accuracy: 8.0000e-04 - val_loss: 3.7732e-04 - val_mean_squared_error: 3.7732e-04 - val_accuracy: 0.0032\n",
      "Epoch 38/100\n",
      "1250/1250 [==============================] - 1s 453us/step - loss: 4.1723e-04 - mean_squared_error: 4.1723e-04 - accuracy: 8.0000e-04 - val_loss: 3.7653e-04 - val_mean_squared_error: 3.7653e-04 - val_accuracy: 0.0032\n",
      "Epoch 39/100\n",
      "1250/1250 [==============================] - 1s 457us/step - loss: 4.1718e-04 - mean_squared_error: 4.1718e-04 - accuracy: 8.0000e-04 - val_loss: 3.7638e-04 - val_mean_squared_error: 3.7638e-04 - val_accuracy: 0.0032\n",
      "Epoch 40/100\n",
      "1250/1250 [==============================] - 1s 412us/step - loss: 4.1706e-04 - mean_squared_error: 4.1706e-04 - accuracy: 8.0000e-04 - val_loss: 3.7567e-04 - val_mean_squared_error: 3.7567e-04 - val_accuracy: 0.0032\n",
      "Epoch 41/100\n",
      "1250/1250 [==============================] - 0s 389us/step - loss: 4.1702e-04 - mean_squared_error: 4.1702e-04 - accuracy: 8.0000e-04 - val_loss: 3.7558e-04 - val_mean_squared_error: 3.7558e-04 - val_accuracy: 0.0032\n",
      "Epoch 42/100\n",
      "1250/1250 [==============================] - 0s 379us/step - loss: 4.1690e-04 - mean_squared_error: 4.1690e-04 - accuracy: 8.0000e-04 - val_loss: 3.7516e-04 - val_mean_squared_error: 3.7516e-04 - val_accuracy: 0.0032\n",
      "Epoch 43/100\n",
      "1250/1250 [==============================] - 0s 380us/step - loss: 4.1682e-04 - mean_squared_error: 4.1682e-04 - accuracy: 8.0000e-04 - val_loss: 3.7465e-04 - val_mean_squared_error: 3.7465e-04 - val_accuracy: 0.0032\n",
      "Epoch 44/100\n",
      "1250/1250 [==============================] - 0s 388us/step - loss: 4.1673e-04 - mean_squared_error: 4.1673e-04 - accuracy: 8.0000e-04 - val_loss: 3.7423e-04 - val_mean_squared_error: 3.7423e-04 - val_accuracy: 0.0032\n",
      "Epoch 45/100\n",
      "1250/1250 [==============================] - 0s 389us/step - loss: 4.1662e-04 - mean_squared_error: 4.1662e-04 - accuracy: 8.0000e-04 - val_loss: 3.7352e-04 - val_mean_squared_error: 3.7352e-04 - val_accuracy: 0.0032\n",
      "Epoch 46/100\n",
      "1250/1250 [==============================] - 0s 391us/step - loss: 4.1655e-04 - mean_squared_error: 4.1655e-04 - accuracy: 8.0000e-04 - val_loss: 3.7292e-04 - val_mean_squared_error: 3.7292e-04 - val_accuracy: 0.0032\n",
      "Epoch 47/100\n",
      "1250/1250 [==============================] - 1s 401us/step - loss: 4.1644e-04 - mean_squared_error: 4.1644e-04 - accuracy: 8.0000e-04 - val_loss: 3.7222e-04 - val_mean_squared_error: 3.7222e-04 - val_accuracy: 0.0032\n",
      "Epoch 48/100\n",
      "1250/1250 [==============================] - 0s 393us/step - loss: 4.1635e-04 - mean_squared_error: 4.1635e-04 - accuracy: 8.0000e-04 - val_loss: 3.7150e-04 - val_mean_squared_error: 3.7150e-04 - val_accuracy: 0.0032\n",
      "Epoch 49/100\n",
      "1250/1250 [==============================] - 0s 377us/step - loss: 4.1626e-04 - mean_squared_error: 4.1626e-04 - accuracy: 8.0000e-04 - val_loss: 3.7085e-04 - val_mean_squared_error: 3.7085e-04 - val_accuracy: 0.0032\n",
      "Epoch 50/100\n",
      "1250/1250 [==============================] - 0s 399us/step - loss: 4.1616e-04 - mean_squared_error: 4.1616e-04 - accuracy: 8.0000e-04 - val_loss: 3.7013e-04 - val_mean_squared_error: 3.7013e-04 - val_accuracy: 0.0032\n",
      "Epoch 51/100\n",
      "1250/1250 [==============================] - 1s 443us/step - loss: 4.1607e-04 - mean_squared_error: 4.1607e-04 - accuracy: 8.0000e-04 - val_loss: 3.6951e-04 - val_mean_squared_error: 3.6951e-04 - val_accuracy: 0.0032\n",
      "Epoch 52/100\n",
      "1250/1250 [==============================] - 1s 434us/step - loss: 4.1596e-04 - mean_squared_error: 4.1596e-04 - accuracy: 8.0000e-04 - val_loss: 3.6883e-04 - val_mean_squared_error: 3.6883e-04 - val_accuracy: 0.0032\n",
      "Epoch 53/100\n",
      "1250/1250 [==============================] - 1s 419us/step - loss: 4.1587e-04 - mean_squared_error: 4.1587e-04 - accuracy: 8.0000e-04 - val_loss: 3.6819e-04 - val_mean_squared_error: 3.6819e-04 - val_accuracy: 0.0032\n",
      "Epoch 54/100\n",
      "1250/1250 [==============================] - 0s 364us/step - loss: 4.1576e-04 - mean_squared_error: 4.1576e-04 - accuracy: 8.0000e-04 - val_loss: 3.6755e-04 - val_mean_squared_error: 3.6755e-04 - val_accuracy: 0.0032\n",
      "Epoch 55/100\n",
      "1250/1250 [==============================] - 0s 387us/step - loss: 4.1566e-04 - mean_squared_error: 4.1566e-04 - accuracy: 8.0000e-04 - val_loss: 3.6687e-04 - val_mean_squared_error: 3.6687e-04 - val_accuracy: 0.0032\n",
      "Epoch 56/100\n",
      "1250/1250 [==============================] - 0s 361us/step - loss: 4.1556e-04 - mean_squared_error: 4.1556e-04 - accuracy: 8.0000e-04 - val_loss: 3.6625e-04 - val_mean_squared_error: 3.6625e-04 - val_accuracy: 0.0032\n",
      "Epoch 57/100\n",
      "1250/1250 [==============================] - 0s 365us/step - loss: 4.1545e-04 - mean_squared_error: 4.1545e-04 - accuracy: 8.0000e-04 - val_loss: 3.6555e-04 - val_mean_squared_error: 3.6555e-04 - val_accuracy: 0.0032\n",
      "Epoch 58/100\n",
      "1250/1250 [==============================] - 0s 370us/step - loss: 4.1535e-04 - mean_squared_error: 4.1535e-04 - accuracy: 8.0000e-04 - val_loss: 3.6490e-04 - val_mean_squared_error: 3.6490e-04 - val_accuracy: 0.0032\n",
      "Epoch 59/100\n",
      "1250/1250 [==============================] - 0s 361us/step - loss: 4.1524e-04 - mean_squared_error: 4.1524e-04 - accuracy: 8.0000e-04 - val_loss: 3.6423e-04 - val_mean_squared_error: 3.6423e-04 - val_accuracy: 0.0032\n",
      "Epoch 60/100\n",
      "1250/1250 [==============================] - 0s 363us/step - loss: 4.1512e-04 - mean_squared_error: 4.1512e-04 - accuracy: 8.0000e-04 - val_loss: 3.6353e-04 - val_mean_squared_error: 3.6353e-04 - val_accuracy: 0.0032\n",
      "Epoch 61/100\n",
      "1250/1250 [==============================] - 0s 368us/step - loss: 4.1502e-04 - mean_squared_error: 4.1502e-04 - accuracy: 8.0000e-04 - val_loss: 3.6289e-04 - val_mean_squared_error: 3.6289e-04 - val_accuracy: 0.0032\n",
      "Epoch 62/100\n",
      "1250/1250 [==============================] - 0s 355us/step - loss: 4.1490e-04 - mean_squared_error: 4.1490e-04 - accuracy: 8.0000e-04 - val_loss: 3.6218e-04 - val_mean_squared_error: 3.6218e-04 - val_accuracy: 0.0032\n",
      "Epoch 63/100\n",
      "1250/1250 [==============================] - 0s 367us/step - loss: 4.1480e-04 - mean_squared_error: 4.1480e-04 - accuracy: 8.0000e-04 - val_loss: 3.6154e-04 - val_mean_squared_error: 3.6154e-04 - val_accuracy: 0.0032\n",
      "Epoch 64/100\n",
      "1250/1250 [==============================] - 1s 434us/step - loss: 4.1467e-04 - mean_squared_error: 4.1467e-04 - accuracy: 8.0000e-04 - val_loss: 3.6083e-04 - val_mean_squared_error: 3.6083e-04 - val_accuracy: 0.0032\n",
      "Epoch 65/100\n",
      "1250/1250 [==============================] - 1s 462us/step - loss: 4.1456e-04 - mean_squared_error: 4.1456e-04 - accuracy: 8.0000e-04 - val_loss: 3.6017e-04 - val_mean_squared_error: 3.6017e-04 - val_accuracy: 0.0032\n",
      "Epoch 66/100\n",
      "1250/1250 [==============================] - 1s 515us/step - loss: 4.1444e-04 - mean_squared_error: 4.1444e-04 - accuracy: 8.0000e-04 - val_loss: 3.5948e-04 - val_mean_squared_error: 3.5948e-04 - val_accuracy: 0.0032\n",
      "Epoch 67/100\n",
      "1250/1250 [==============================] - 1s 525us/step - loss: 4.1433e-04 - mean_squared_error: 4.1433e-04 - accuracy: 8.0000e-04 - val_loss: 3.5879e-04 - val_mean_squared_error: 3.5879e-04 - val_accuracy: 0.0032\n",
      "Epoch 68/100\n",
      "1250/1250 [==============================] - 1s 469us/step - loss: 4.1421e-04 - mean_squared_error: 4.1421e-04 - accuracy: 8.0000e-04 - val_loss: 3.5812e-04 - val_mean_squared_error: 3.5812e-04 - val_accuracy: 0.0032\n",
      "Epoch 69/100\n",
      "1250/1250 [==============================] - 1s 432us/step - loss: 4.1409e-04 - mean_squared_error: 4.1409e-04 - accuracy: 8.0000e-04 - val_loss: 3.5742e-04 - val_mean_squared_error: 3.5742e-04 - val_accuracy: 0.0032\n",
      "Epoch 70/100\n",
      "1250/1250 [==============================] - 1s 480us/step - loss: 4.1397e-04 - mean_squared_error: 4.1397e-04 - accuracy: 8.0000e-04 - val_loss: 3.5676e-04 - val_mean_squared_error: 3.5676e-04 - val_accuracy: 0.0032\n",
      "Epoch 71/100\n",
      "1250/1250 [==============================] - 1s 452us/step - loss: 4.1385e-04 - mean_squared_error: 4.1385e-04 - accuracy: 8.0000e-04 - val_loss: 3.5605e-04 - val_mean_squared_error: 3.5605e-04 - val_accuracy: 0.0032\n",
      "Epoch 72/100\n",
      "1250/1250 [==============================] - 1s 431us/step - loss: 4.1373e-04 - mean_squared_error: 4.1373e-04 - accuracy: 8.0000e-04 - val_loss: 3.5539e-04 - val_mean_squared_error: 3.5539e-04 - val_accuracy: 0.0032\n"
     ]
    },
    {
     "name": "stdout",
     "output_type": "stream",
     "text": [
      "Epoch 73/100\n",
      "1250/1250 [==============================] - 1s 473us/step - loss: 4.1360e-04 - mean_squared_error: 4.1360e-04 - accuracy: 8.0000e-04 - val_loss: 3.5468e-04 - val_mean_squared_error: 3.5468e-04 - val_accuracy: 0.0032\n",
      "Epoch 74/100\n",
      "1250/1250 [==============================] - 1s 453us/step - loss: 4.1348e-04 - mean_squared_error: 4.1348e-04 - accuracy: 8.0000e-04 - val_loss: 3.5403e-04 - val_mean_squared_error: 3.5403e-04 - val_accuracy: 0.0032\n",
      "Epoch 75/100\n",
      "1250/1250 [==============================] - 1s 447us/step - loss: 4.1335e-04 - mean_squared_error: 4.1335e-04 - accuracy: 8.0000e-04 - val_loss: 3.5332e-04 - val_mean_squared_error: 3.5332e-04 - val_accuracy: 0.0032\n",
      "Epoch 76/100\n",
      "1250/1250 [==============================] - 1s 527us/step - loss: 4.1323e-04 - mean_squared_error: 4.1323e-04 - accuracy: 8.0000e-04 - val_loss: 3.5267e-04 - val_mean_squared_error: 3.5267e-04 - val_accuracy: 0.0032\n",
      "Epoch 77/100\n",
      "1250/1250 [==============================] - 1s 450us/step - loss: 4.1310e-04 - mean_squared_error: 4.1310e-04 - accuracy: 8.0000e-04 - val_loss: 3.5194e-04 - val_mean_squared_error: 3.5194e-04 - val_accuracy: 0.0032\n",
      "Epoch 78/100\n",
      "1250/1250 [==============================] - 1s 522us/step - loss: 4.1298e-04 - mean_squared_error: 4.1298e-04 - accuracy: 8.0000e-04 - val_loss: 3.5130e-04 - val_mean_squared_error: 3.5130e-04 - val_accuracy: 0.0032\n",
      "Epoch 79/100\n",
      "1250/1250 [==============================] - 1s 506us/step - loss: 4.1284e-04 - mean_squared_error: 4.1284e-04 - accuracy: 8.0000e-04 - val_loss: 3.5057e-04 - val_mean_squared_error: 3.5057e-04 - val_accuracy: 0.0032\n",
      "Epoch 80/100\n",
      "1250/1250 [==============================] - 0s 387us/step - loss: 4.1272e-04 - mean_squared_error: 4.1272e-04 - accuracy: 8.0000e-04 - val_loss: 3.4994e-04 - val_mean_squared_error: 3.4994e-04 - val_accuracy: 0.0032\n",
      "Epoch 81/100\n",
      "1250/1250 [==============================] - 1s 414us/step - loss: 4.1258e-04 - mean_squared_error: 4.1258e-04 - accuracy: 8.0000e-04 - val_loss: 3.4921e-04 - val_mean_squared_error: 3.4921e-04 - val_accuracy: 0.0032\n",
      "Epoch 82/100\n",
      "1250/1250 [==============================] - 1s 419us/step - loss: 4.1246e-04 - mean_squared_error: 4.1246e-04 - accuracy: 8.0000e-04 - val_loss: 3.4858e-04 - val_mean_squared_error: 3.4858e-04 - val_accuracy: 0.0032\n",
      "Epoch 83/100\n",
      "1250/1250 [==============================] - 1s 410us/step - loss: 4.1232e-04 - mean_squared_error: 4.1232e-04 - accuracy: 8.0000e-04 - val_loss: 3.4784e-04 - val_mean_squared_error: 3.4784e-04 - val_accuracy: 0.0032\n",
      "Epoch 84/100\n",
      "1250/1250 [==============================] - 0s 385us/step - loss: 4.1220e-04 - mean_squared_error: 4.1220e-04 - accuracy: 8.0000e-04 - val_loss: 3.4723e-04 - val_mean_squared_error: 3.4723e-04 - val_accuracy: 0.0032\n",
      "Epoch 85/100\n",
      "1250/1250 [==============================] - 0s 383us/step - loss: 4.1205e-04 - mean_squared_error: 4.1205e-04 - accuracy: 8.0000e-04 - val_loss: 3.4647e-04 - val_mean_squared_error: 3.4647e-04 - val_accuracy: 0.0032\n",
      "Epoch 86/100\n",
      "1250/1250 [==============================] - 0s 382us/step - loss: 4.1193e-04 - mean_squared_error: 4.1193e-04 - accuracy: 8.0000e-04 - val_loss: 3.4589e-04 - val_mean_squared_error: 3.4589e-04 - val_accuracy: 0.0032\n",
      "Epoch 87/100\n",
      "1250/1250 [==============================] - 1s 481us/step - loss: 4.1178e-04 - mean_squared_error: 4.1178e-04 - accuracy: 8.0000e-04 - val_loss: 3.4511e-04 - val_mean_squared_error: 3.4511e-04 - val_accuracy: 0.0032\n",
      "Epoch 88/100\n",
      "1250/1250 [==============================] - 1s 478us/step - loss: 4.1166e-04 - mean_squared_error: 4.1166e-04 - accuracy: 8.0000e-04 - val_loss: 3.4456e-04 - val_mean_squared_error: 3.4456e-04 - val_accuracy: 0.0032\n",
      "Epoch 89/100\n",
      "1250/1250 [==============================] - 1s 458us/step - loss: 4.1150e-04 - mean_squared_error: 4.1150e-04 - accuracy: 8.0000e-04 - val_loss: 3.4374e-04 - val_mean_squared_error: 3.4374e-04 - val_accuracy: 0.0032\n",
      "Epoch 90/100\n",
      "1250/1250 [==============================] - 1s 459us/step - loss: 4.1139e-04 - mean_squared_error: 4.1139e-04 - accuracy: 8.0000e-04 - val_loss: 3.4323e-04 - val_mean_squared_error: 3.4323e-04 - val_accuracy: 0.0032\n",
      "Epoch 91/100\n",
      "1250/1250 [==============================] - 1s 444us/step - loss: 4.1122e-04 - mean_squared_error: 4.1122e-04 - accuracy: 8.0000e-04 - val_loss: 3.4238e-04 - val_mean_squared_error: 3.4238e-04 - val_accuracy: 0.0032\n",
      "Epoch 92/100\n",
      "1250/1250 [==============================] - 1s 410us/step - loss: 4.1112e-04 - mean_squared_error: 4.1112e-04 - accuracy: 8.0000e-04 - val_loss: 3.4192e-04 - val_mean_squared_error: 3.4192e-04 - val_accuracy: 0.0032\n",
      "Epoch 93/100\n",
      "1250/1250 [==============================] - 0s 341us/step - loss: 4.1094e-04 - mean_squared_error: 4.1094e-04 - accuracy: 8.0000e-04 - val_loss: 3.4102e-04 - val_mean_squared_error: 3.4102e-04 - val_accuracy: 0.0032\n",
      "Epoch 94/100\n",
      "1250/1250 [==============================] - 0s 345us/step - loss: 4.1085e-04 - mean_squared_error: 4.1085e-04 - accuracy: 8.0000e-04 - val_loss: 3.4062e-04 - val_mean_squared_error: 3.4062e-04 - val_accuracy: 0.0032\n",
      "Epoch 95/100\n",
      "1250/1250 [==============================] - 0s 346us/step - loss: 4.1065e-04 - mean_squared_error: 4.1065e-04 - accuracy: 8.0000e-04 - val_loss: 3.3966e-04 - val_mean_squared_error: 3.3966e-04 - val_accuracy: 0.0032\n",
      "Epoch 96/100\n",
      "1250/1250 [==============================] - 1s 433us/step - loss: 4.1057e-04 - mean_squared_error: 4.1057e-04 - accuracy: 8.0000e-04 - val_loss: 3.3933e-04 - val_mean_squared_error: 3.3933e-04 - val_accuracy: 0.0032\n",
      "Epoch 97/100\n",
      "1250/1250 [==============================] - 0s 395us/step - loss: 4.1036e-04 - mean_squared_error: 4.1036e-04 - accuracy: 8.0000e-04 - val_loss: 3.3830e-04 - val_mean_squared_error: 3.3830e-04 - val_accuracy: 0.0032\n",
      "Epoch 98/100\n",
      "1250/1250 [==============================] - 0s 399us/step - loss: 4.1029e-04 - mean_squared_error: 4.1029e-04 - accuracy: 8.0000e-04 - val_loss: 3.3806e-04 - val_mean_squared_error: 3.3806e-04 - val_accuracy: 0.0032\n",
      "Epoch 99/100\n",
      "1250/1250 [==============================] - 0s 381us/step - loss: 4.1007e-04 - mean_squared_error: 4.1007e-04 - accuracy: 8.0000e-04 - val_loss: 3.3693e-04 - val_mean_squared_error: 3.3693e-04 - val_accuracy: 0.0032\n",
      "Epoch 100/100\n",
      "1250/1250 [==============================] - 0s 393us/step - loss: 4.1001e-04 - mean_squared_error: 4.1001e-04 - accuracy: 8.0000e-04 - val_loss: 3.3681e-04 - val_mean_squared_error: 3.3681e-04 - val_accuracy: 0.0032\n"
     ]
    }
   ],
   "source": [
    "history = model.fit(x_train, y_train, epochs=epoch , batch_size = bs, validation_data=(x_test, y_test),verbose=1, shuffle=False)"
   ]
  },
  {
   "cell_type": "code",
   "execution_count": 236,
   "metadata": {},
   "outputs": [
    {
     "name": "stdout",
     "output_type": "stream",
     "text": [
      "R2 score : 0.967842\n"
     ]
    }
   ],
   "source": [
    "#using the model for x_test and then converting the data to normal price using inverse transform\n",
    "predicted_price= model.predict(x_test)\n",
    "pred = predicted_price[:, 0]\n",
    "from sklearn.metrics import mean_squared_error, r2_score\n",
    "#accuracy_score = model.score(y_test, test_label)\n",
    "print(\"R2 score : %f\" % r2_score(y_test,pred))"
   ]
  },
  {
   "cell_type": "code",
   "execution_count": 237,
   "metadata": {
    "colab": {
     "base_uri": "https://localhost:8080/",
     "height": 899
    },
    "id": "yPu2WxdpgbOs",
    "outputId": "5b459892-9c14-485a-a1ee-c5d2e88bd0de"
   },
   "outputs": [
    {
     "data": {
      "image/png": "[encoded data removed]",
      "text/plain": [
       "<Figure size 648x288 with 1 Axes>"
      ]
     },
     "metadata": {
      "needs_background": "light"
     },
     "output_type": "display_data"
    },
    {
     "data": {
      "image/png": "[encoded data removed]",
      "text/plain": [
       "<Figure size 648x288 with 1 Axes>"
      ]
     },
     "metadata": {
      "needs_background": "light"
     },
     "output_type": "display_data"
    }
   ],
   "source": [
    "#summarize history for error\n",
    "fig, ax = plt.subplots(figsize=(9,4))\n",
    "plt.plot(history.history['mean_squared_error'])\n",
    "plt.plot(history.history['val_mean_squared_error'])\n",
    "plt.title('model mean squared error')\n",
    "plt.ylabel('Error')\n",
    "plt.xlabel('epoch')\n",
    "plt.legend(['train', 'test'], loc='upper left')\n",
    "plt.show()\n",
    "# summarize history for loss\n",
    "fig, ax = plt.subplots(figsize=(9,4))\n",
    "plt.plot(history.history['loss'])\n",
    "plt.plot(history.history['val_loss'])\n",
    "plt.title('Plot Loss Pemodelan Data Saham AALI.JK dengan Learning Rate {} '.format(lrt))\n",
    "plt.ylabel('loss')\n",
    "plt.xlabel('epoch')\n",
    "plt.legend(['train','test'], loc='upper left')\n",
    "plt.show()"
   ]
  },
  {
   "cell_type": "code",
   "execution_count": 238,
   "metadata": {
    "colab": {
     "base_uri": "https://localhost:8080/"
    },
    "id": "dWJRGTe6_DsI",
    "outputId": "0b4049a1-24d3-4200-aca6-3c6a57ef1744"
   },
   "outputs": [
    {
     "data": {
      "text/plain": [
       "array([[13617.631 ],\n",
       "       [13431.464 ],\n",
       "       [13294.093 ],\n",
       "       [13302.474 ],\n",
       "       [13407.372 ],\n",
       "       [13456.195 ],\n",
       "       [13569.221 ],\n",
       "       [13455.65  ],\n",
       "       [13367.2295],\n",
       "       [13536.986 ],\n",
       "       [13748.184 ],\n",
       "       [14202.68  ],\n",
       "       [14486.977 ],\n",
       "       [14355.89  ],\n",
       "       [14023.487 ],\n",
       "       [13876.531 ],\n",
       "       [13455.83  ],\n",
       "       [13366.868 ],\n",
       "       [13488.979 ],\n",
       "       [13771.632 ],\n",
       "       [13666.519 ],\n",
       "       [13520.104 ],\n",
       "       [12978.462 ],\n",
       "       [12592.492 ],\n",
       "       [12753.629 ],\n",
       "       [12793.415 ],\n",
       "       [12535.745 ],\n",
       "       [12399.331 ],\n",
       "       [12447.504 ],\n",
       "       [12334.612 ],\n",
       "       [11949.2   ],\n",
       "       [11701.469 ],\n",
       "       [11845.437 ],\n",
       "       [11885.614 ],\n",
       "       [11949.589 ],\n",
       "       [11764.938 ],\n",
       "       [11413.234 ],\n",
       "       [11485.717 ],\n",
       "       [11933.917 ],\n",
       "       [12134.076 ],\n",
       "       [11893.01  ],\n",
       "       [11557.371 ],\n",
       "       [11645.23  ],\n",
       "       [11452.894 ],\n",
       "       [11126.002 ],\n",
       "       [11205.803 ],\n",
       "       [11237.58  ],\n",
       "       [11205.803 ],\n",
       "       [11253.581 ],\n",
       "       [11117.746 ],\n",
       "       [10830.952 ],\n",
       "       [10759.658 ],\n",
       "       [10830.905 ],\n",
       "       [10640.194 ],\n",
       "       [10425.23  ],\n",
       "       [ 9839.048 ],\n",
       "       [ 9712.749 ],\n",
       "       [ 9855.015 ],\n",
       "       [ 9950.045 ],\n",
       "       [ 9997.34  ],\n",
       "       [ 9364.982 ],\n",
       "       [ 8390.731 ],\n",
       "       [ 8171.553 ],\n",
       "       [ 7625.14  ],\n",
       "       [ 7158.2217],\n",
       "       [ 6879.1606],\n",
       "       [ 6198.469 ],\n",
       "       [ 5836.3433],\n",
       "       [ 5496.6475],\n",
       "       [ 5251.0537],\n",
       "       [ 5095.005 ],\n",
       "       [ 4859.304 ],\n",
       "       [ 5069.6714],\n",
       "       [ 5720.5933],\n",
       "       [ 5797.8613],\n",
       "       [ 5659.1177],\n",
       "       [ 5774.6562],\n",
       "       [ 5713.0376],\n",
       "       [ 5812.9346],\n",
       "       [ 6105.5166],\n",
       "       [ 6584.406 ],\n",
       "       [ 6863.4146],\n",
       "       [ 6739.3857],\n",
       "       [ 6778.0786],\n",
       "       [ 6909.8296],\n",
       "       [ 7018.473 ],\n",
       "       [ 6902.2295],\n",
       "       [ 6747.059 ],\n",
       "       [ 6894.373 ],\n",
       "       [ 6739.5366],\n",
       "       [ 6329.6875],\n",
       "       [ 6067.1846],\n",
       "       [ 6005.6343],\n",
       "       [ 5905.372 ],\n",
       "       [ 6082.4155],\n",
       "       [ 6352.6616],\n",
       "       [ 6398.9834],\n",
       "       [ 6445.4053],\n",
       "       [ 6491.6797],\n",
       "       [ 6654.21  ],\n",
       "       [ 6654.234 ],\n",
       "       [ 6762.5015],\n",
       "       [ 6902.2534],\n",
       "       [ 6615.5303],\n",
       "       [ 6553.685 ],\n",
       "       [ 6491.731 ],\n",
       "       [ 6599.9976],\n",
       "       [ 6747.0796],\n",
       "       [ 6863.35  ],\n",
       "       [ 6964.1   ],\n",
       "       [ 7181.4985],\n",
       "       [ 7352.5093],\n",
       "       [ 7562.69  ],\n",
       "       [ 7656.214 ],\n",
       "       [ 7734.162 ],\n",
       "       [ 8007.3887],\n",
       "       [ 8108.9937],\n",
       "       [ 8257.677 ],\n",
       "       [ 8751.645 ],\n",
       "       [ 8987.242 ],\n",
       "       [ 8782.938 ],\n",
       "       [ 8665.138 ],\n",
       "       [ 8382.882 ],\n",
       "       [ 8335.978 ],\n",
       "       [ 8735.86  ],\n",
       "       [ 8814.352 ],\n",
       "       [ 8704.399 ],\n",
       "       [ 8688.769 ],\n",
       "       [ 8900.853 ],\n",
       "       [ 8995.16  ],\n",
       "       [ 8861.455 ],\n",
       "       [ 8649.477 ],\n",
       "       [ 8563.155 ],\n",
       "       [ 8429.916 ],\n",
       "       [ 8476.948 ],\n",
       "       [ 8578.888 ],\n",
       "       [ 8688.739 ],\n",
       "       [ 8767.249 ],\n",
       "       [ 8830.104 ],\n",
       "       [ 8877.222 ],\n",
       "       [ 8853.66  ],\n",
       "       [ 8806.478 ],\n",
       "       [ 8712.291 ],\n",
       "       [ 8775.093 ],\n",
       "       [ 8861.575 ],\n",
       "       [ 9073.883 ],\n",
       "       [ 9215.635 ],\n",
       "       [ 9420.613 ],\n",
       "       [ 9617.905 ],\n",
       "       [ 9673.126 ],\n",
       "       [ 9609.939 ],\n",
       "       [ 9562.56  ],\n",
       "       [ 9538.902 ],\n",
       "       [ 9523.07  ],\n",
       "       [ 9586.425 ],\n",
       "       [ 9839.173 ],\n",
       "       [ 9791.659 ],\n",
       "       [ 9744.346 ],\n",
       "       [ 9855.015 ],\n",
       "       [ 9870.793 ],\n",
       "       [ 9855.015 ],\n",
       "       [10005.554 ],\n",
       "       [10259.    ],\n",
       "       [10235.092 ],\n",
       "       [10171.826 ],\n",
       "       [10306.639 ],\n",
       "       [10370.029 ],\n",
       "       [10338.311 ],\n",
       "       [10250.903 ],\n",
       "       [10084.588 ],\n",
       "       [10132.17  ],\n",
       "       [10179.652 ],\n",
       "       [10179.729 ],\n",
       "       [10259.    ],\n",
       "       [10362.245 ],\n",
       "       [10696.228 ],\n",
       "       [11142.049 ],\n",
       "       [11277.586 ],\n",
       "       [11341.566 ],\n",
       "       [11381.256 ],\n",
       "       [11053.733 ],\n",
       "       [10401.45  ],\n",
       "       [10156.234 ],\n",
       "       [10720.043 ],\n",
       "       [11038.201 ],\n",
       "       [10966.423 ],\n",
       "       [10886.849 ],\n",
       "       [10655.655 ],\n",
       "       [10378.332 ],\n",
       "       [10655.903 ],\n",
       "       [10425.532 ],\n",
       "       [10171.536 ],\n",
       "       [ 9957.973 ],\n",
       "       [10052.819 ],\n",
       "       [ 9949.939 ],\n",
       "       [10053.077 ],\n",
       "       [10449.751 ],\n",
       "       [10711.635 ],\n",
       "       [10592.448 ],\n",
       "       [10560.643 ],\n",
       "       [10512.967 ],\n",
       "       [10576.751 ],\n",
       "       [10847.201 ],\n",
       "       [11062.277 ],\n",
       "       [11181.809 ],\n",
       "       [11173.757 ],\n",
       "       [11093.977 ],\n",
       "       [11046.243 ],\n",
       "       [11038.15  ],\n",
       "       [10942.571 ],\n",
       "       [10886.8   ],\n",
       "       [10711.502 ],\n",
       "       [10497.18  ],\n",
       "       [10600.459 ],\n",
       "       [10751.733 ],\n",
       "       [10870.744 ],\n",
       "       [10743.66  ],\n",
       "       [10775.269 ],\n",
       "       [10719.841 ],\n",
       "       [10902.861 ],\n",
       "       [10918.575 ],\n",
       "       [10815.239 ],\n",
       "       [10854.9795],\n",
       "       [10950.817 ],\n",
       "       [11189.808 ],\n",
       "       [11229.689 ],\n",
       "       [11181.646 ],\n",
       "       [11046.189 ],\n",
       "       [11038.253 ],\n",
       "       [11062.17  ],\n",
       "       [11070.107 ],\n",
       "       [11070.16  ],\n",
       "       [11030.11  ],\n",
       "       [10902.811 ],\n",
       "       [11190.393 ],\n",
       "       [11918.191 ],\n",
       "       [12278.483 ],\n",
       "       [12134.146 ],\n",
       "       [12134.146 ],\n",
       "       [11997.372 ],\n",
       "       [11853.809 ],\n",
       "       [12061.783 ],\n",
       "       [11933.509 ],\n",
       "       [11893.584 ],\n",
       "       [11917.499 ],\n",
       "       [11877.511 ],\n",
       "       [11973.915 ],\n",
       "       [12053.671 ],\n",
       "       [11965.873 ],\n",
       "       [12110.067 ],\n",
       "       [11997.437 ],\n",
       "       [11701.09  ],\n",
       "       [11798.05  ],\n",
       "       [12230.357 ],\n",
       "       [12206.622 ],\n",
       "       [12593.145 ],\n",
       "       [13051.741 ],\n",
       "       [12922.444 ],\n",
       "       [12834.258 ],\n",
       "       [12987.285 ],\n",
       "       [12906.259 ],\n",
       "       [12640.41  ],\n",
       "       [12439.289 ],\n",
       "       [12359.158 ],\n",
       "       [12326.622 ],\n",
       "       [11981.291 ],\n",
       "       [11701.34  ],\n",
       "       [11781.436 ],\n",
       "       [11853.471 ],\n",
       "       [11813.239 ],\n",
       "       [11548.879 ],\n",
       "       [11157.661 ],\n",
       "       [11174.2705],\n",
       "       [11413.011 ],\n",
       "       [11165.925 ],\n",
       "       [11349.692 ],\n",
       "       [11445.048 ],\n",
       "       [11173.705 ],\n",
       "       [11062.117 ],\n",
       "       [11110.179 ],\n",
       "       [11301.597 ],\n",
       "       [11413.469 ],\n",
       "       [11509.267 ],\n",
       "       [11469.197 ],\n",
       "       [11349.343 ],\n",
       "       [11317.6045],\n",
       "       [11309.265 ],\n",
       "       [11110.014 ],\n",
       "       [11085.985 ],\n",
       "       [11038.307 ],\n",
       "       [11086.038 ],\n",
       "       [11166.095 ],\n",
       "       [11389.38  ],\n",
       "       [11365.355 ],\n",
       "       [11317.492 ],\n",
       "       [11253.472 ],\n",
       "       [11101.968 ],\n",
       "       [11046.189 ],\n",
       "       [10998.314 ],\n",
       "       [11038.469 ],\n",
       "       [11229.636 ],\n",
       "       [11157.767 ],\n",
       "       [11174.035 ],\n",
       "       [11389.438 ],\n",
       "       [11381.256 ],\n",
       "       [11221.581 ],\n",
       "       [11125.948 ],\n",
       "       [11062.014 ],\n",
       "       [10918.673 ],\n",
       "       [10902.811 ],\n",
       "       [10870.792 ],\n",
       "       [10743.565 ]], dtype=float32)"
      ]
     },
     "execution_count": 238,
     "metadata": {},
     "output_type": "execute_result"
    }
   ],
   "source": [
    "predicted_price = scaler.inverse_transform(predicted_price)\n",
    "predicted_price"
   ]
  },
  {
   "cell_type": "code",
   "execution_count": 239,
   "metadata": {
    "colab": {
     "base_uri": "https://localhost:8080/"
    },
    "id": "zMqAakwczjmh",
    "outputId": "f78d6db2-eae5-4440-cea8-5423160e7776"
   },
   "outputs": [
    {
     "data": {
      "text/plain": [
       "312"
      ]
     },
     "execution_count": 239,
     "metadata": {},
     "output_type": "execute_result"
    }
   ],
   "source": [
    "len(predicted_price)"
   ]
  },
  {
   "cell_type": "code",
   "execution_count": 240,
   "metadata": {
    "colab": {
     "base_uri": "https://localhost:8080/"
    },
    "id": "rXvxrmuPyYul",
    "outputId": "01cae3f0-4d52-4497-8623-c2dd647d2f8d"
   },
   "outputs": [
    {
     "data": {
      "text/plain": [
       "(312, 1)"
      ]
     },
     "execution_count": 240,
     "metadata": {},
     "output_type": "execute_result"
    }
   ],
   "source": [
    "predicted_price =np.array(predicted_price)\n",
    "predicted_price.shape"
   ]
  },
  {
   "cell_type": "code",
   "execution_count": 241,
   "metadata": {
    "colab": {
     "base_uri": "https://localhost:8080/"
    },
    "id": "guXDr5EtzohE",
    "outputId": "9c1f4842-6fa8-4770-fe57-3a25abdddb16"
   },
   "outputs": [
    {
     "data": {
      "text/plain": [
       "(312,)"
      ]
     },
     "execution_count": 241,
     "metadata": {},
     "output_type": "execute_result"
    }
   ],
   "source": [
    "y_test.shape"
   ]
  },
  {
   "cell_type": "code",
   "execution_count": 242,
   "metadata": {
    "colab": {
     "base_uri": "https://localhost:8080/"
    },
    "id": "NC0IgP45_OXF",
    "outputId": "1ec8c2f7-8955-426c-d0ac-386b99df333b"
   },
   "outputs": [
    {
     "data": {
      "text/plain": [
       "array([0.41410539, 0.41066788, 0.41868874, 0.4175429 , 0.4267096 ,\n",
       "       0.42441792, 0.41295956, 0.42327209, 0.4267096 , 0.44962633,\n",
       "       0.46795972, 0.47139723, 0.44618882, 0.44962633, 0.42212625,\n",
       "       0.4175429 , 0.41410539, 0.43816796, 0.43014711, 0.43129294,\n",
       "       0.40837621, 0.37743862, 0.38431364, 0.39348033, 0.38087613,\n",
       "       0.36941776, 0.37285527, 0.37285527, 0.35681356, 0.33389682,\n",
       "       0.34420935, 0.34420935, 0.34993854, 0.34764686, 0.32587597,\n",
       "       0.31900094, 0.34306352, 0.35910523, 0.35566772, 0.32816764,\n",
       "       0.33504266, 0.33389682, 0.30868841, 0.31212592, 0.31670927,\n",
       "       0.31212592, 0.31670927, 0.3144176 , 0.29952172, 0.28806335,\n",
       "       0.30066756, 0.28577168, 0.28806335, 0.25254241, 0.23879237,\n",
       "       0.24795907, 0.25025074, 0.25941744, 0.24795907, 0.17920886,\n",
       "       0.17462552, 0.15170878, 0.11733368, 0.11733368, 0.07608356,\n",
       "       0.05775017, 0.04056262, 0.02429174, 0.02016673, 0.00504168,\n",
       "       0.        , 0.04170846, 0.0554585 , 0.03941678, 0.05087515,\n",
       "       0.04514597, 0.04743764, 0.05775017, 0.08066691, 0.10587531,\n",
       "       0.09670862, 0.09670862, 0.1024378 , 0.11045866, 0.11045866,\n",
       "       0.09327111, 0.10472948, 0.10358364, 0.08295858, 0.06347935,\n",
       "       0.06347935, 0.05431266, 0.05775017, 0.0772294 , 0.07837523,\n",
       "       0.08295858, 0.08066691, 0.09212527, 0.09327111, 0.09097944,\n",
       "       0.1116045 , 0.09097944, 0.0898336 , 0.08295858, 0.08754193,\n",
       "       0.09441695, 0.1024378 , 0.10358364, 0.11618784, 0.12306286,\n",
       "       0.13452123, 0.14254209, 0.14025042, 0.15629213, 0.16431299,\n",
       "       0.16316715, 0.18722972, 0.21129229, 0.19754225, 0.19525058,\n",
       "       0.18264637, 0.16660466, 0.19181307, 0.19983393, 0.19525058,\n",
       "       0.18837556, 0.19983393, 0.20785478, 0.20556311, 0.19066723,\n",
       "       0.18952139, 0.17920886, 0.1803547 , 0.18493805, 0.19066723,\n",
       "       0.19525058, 0.19754225, 0.2021256 , 0.19983393, 0.20097976,\n",
       "       0.19181307, 0.19639642, 0.19639642, 0.20900062, 0.2147298 ,\n",
       "       0.2238965 , 0.23535486, 0.24108405, 0.23764654, 0.23535486,\n",
       "       0.23306319, 0.23420903, 0.22962568, 0.24795907, 0.24795907,\n",
       "       0.24108405, 0.24795907, 0.25025074, 0.24795907, 0.25025074,\n",
       "       0.26743829, 0.26972997, 0.26170911, 0.26858413, 0.27431331,\n",
       "       0.27202164, 0.27202164, 0.25941744, 0.26056327, 0.26514662,\n",
       "       0.26285495, 0.26743829, 0.26972997, 0.2800425 , 0.30754258,\n",
       "       0.31670927, 0.31785511, 0.32473013, 0.31670927, 0.28577168,\n",
       "       0.25368825, 0.28233417, 0.30639674, 0.30410507, 0.29837588,\n",
       "       0.29837588, 0.26514662, 0.29150086, 0.27889666, 0.2708758 ,\n",
       "       0.25025074, 0.26056327, 0.25368825, 0.25254241, 0.26972997,\n",
       "       0.2926467 , 0.28462584, 0.28348001, 0.28118833, 0.27889666,\n",
       "       0.2926467 , 0.30410507, 0.31212592, 0.31327176, 0.30983425,\n",
       "       0.3052509 , 0.30754258, 0.30181339, 0.29952172, 0.29608421,\n",
       "       0.27775082, 0.28348001, 0.28691752, 0.30181339, 0.28920919,\n",
       "       0.29608421, 0.28691752, 0.29723005, 0.30295923, 0.29379254,\n",
       "       0.29723005, 0.29608421, 0.31212592, 0.3144176 , 0.31556343,\n",
       "       0.30639674, 0.3052509 , 0.30639674, 0.30754258, 0.30639674,\n",
       "       0.30868841, 0.29837588, 0.30066756, 0.33733433, 0.36827192,\n",
       "       0.35795939, 0.35795939, 0.35795939, 0.33848017, 0.35681356,\n",
       "       0.34993854, 0.34535519, 0.3487927 , 0.34535519, 0.34650103,\n",
       "       0.35795939, 0.34650103, 0.35681356, 0.35681356, 0.34077184,\n",
       "       0.33045931, 0.36483441, 0.35795939, 0.36827192, 0.40264703,\n",
       "       0.39920952, 0.38775115, 0.39806368, 0.39920952, 0.38545948,\n",
       "       0.37514694, 0.36712609, 0.37170943, 0.35795939, 0.3361885 ,\n",
       "       0.33962601, 0.34420935, 0.34535519, 0.33733433, 0.31556343,\n",
       "       0.30295923, 0.33045931, 0.30983425, 0.31556343, 0.33045931,\n",
       "       0.3144176 , 0.30754258, 0.3052509 , 0.31670927, 0.32129262,\n",
       "       0.32816764, 0.32816764, 0.32243846, 0.31670927, 0.32358429,\n",
       "       0.30868841, 0.30983425, 0.30410507, 0.30868841, 0.30639674,\n",
       "       0.32243846, 0.32243846, 0.31900094, 0.31900094, 0.30983425,\n",
       "       0.30639674, 0.3052509 , 0.30066756, 0.31556343, 0.31327176,\n",
       "       0.30754258, 0.32129262, 0.32473013, 0.31670927, 0.30983425,\n",
       "       0.30983425, 0.30066756, 0.29837588, 0.30066756, 0.29150086,\n",
       "       0.29150086, 0.29723005])"
      ]
     },
     "execution_count": 242,
     "metadata": {},
     "output_type": "execute_result"
    }
   ],
   "source": [
    "y_test"
   ]
  },
  {
   "cell_type": "code",
   "execution_count": 243,
   "metadata": {
    "colab": {
     "base_uri": "https://localhost:8080/"
    },
    "id": "kqkzMZW3zSBf",
    "outputId": "9081ea77-522e-4b91-ba45-8ae00fd9b23e"
   },
   "outputs": [
    {
     "name": "stdout",
     "output_type": "stream",
     "text": [
      "Train Score: 0.00041 MSE (0.02019 RMSE)\n",
      "Test Score: 0.00034 MSE (0.01835 RMSE)\n"
     ]
    },
    {
     "data": {
      "text/plain": [
       "(0.0004076194938737899, 0.0003368142200857759)"
      ]
     },
     "execution_count": 243,
     "metadata": {},
     "output_type": "execute_result"
    }
   ],
   "source": [
    "#checking the score for our data\n",
    "def model_score(model, X_train, y_train, X_test, y_test):\n",
    "    trainScore = model.evaluate(X_train, y_train, verbose=0)\n",
    "    print('Train Score: %.5f MSE (%.5f RMSE)' % (trainScore[0], math.sqrt(trainScore[0])))\n",
    "    testScore = model.evaluate(X_test, y_test, verbose=0)\n",
    "    print('Test Score: %.5f MSE (%.5f RMSE)' % (testScore[0], math.sqrt(testScore[0])))\n",
    "    return trainScore[0], testScore[0]\n",
    "\n",
    "model_score(model, x_train, y_train , x_test, y_test)"
   ]
  },
  {
   "cell_type": "code",
   "execution_count": 244,
   "metadata": {
    "colab": {
     "base_uri": "https://localhost:8080/"
    },
    "id": "e37TjxsU9sse",
    "outputId": "923dfa83-b0f8-436f-a5f2-9773ec413231"
   },
   "outputs": [
    {
     "data": {
      "text/plain": [
       "array([13617.631 , 13431.464 , 13294.093 , 13302.474 , 13407.372 ,\n",
       "       13456.195 , 13569.221 , 13455.65  , 13367.2295, 13536.986 ,\n",
       "       13748.184 , 14202.68  , 14486.977 , 14355.89  , 14023.487 ,\n",
       "       13876.531 , 13455.83  , 13366.868 , 13488.979 , 13771.632 ,\n",
       "       13666.519 , 13520.104 , 12978.462 , 12592.492 , 12753.629 ,\n",
       "       12793.415 , 12535.745 , 12399.331 , 12447.504 , 12334.612 ,\n",
       "       11949.2   , 11701.469 , 11845.437 , 11885.614 , 11949.589 ,\n",
       "       11764.938 , 11413.234 , 11485.717 , 11933.917 , 12134.076 ,\n",
       "       11893.01  , 11557.371 , 11645.23  , 11452.894 , 11126.002 ,\n",
       "       11205.803 , 11237.58  , 11205.803 , 11253.581 , 11117.746 ,\n",
       "       10830.952 , 10759.658 , 10830.905 , 10640.194 , 10425.23  ,\n",
       "        9839.048 ,  9712.749 ,  9855.015 ,  9950.045 ,  9997.34  ,\n",
       "        9364.982 ,  8390.731 ,  8171.553 ,  7625.14  ,  7158.2217,\n",
       "        6879.1606,  6198.469 ,  5836.3433,  5496.6475,  5251.0537,\n",
       "        5095.005 ,  4859.304 ,  5069.6714,  5720.5933,  5797.8613,\n",
       "        5659.1177,  5774.6562,  5713.0376,  5812.9346,  6105.5166,\n",
       "        6584.406 ,  6863.4146,  6739.3857,  6778.0786,  6909.8296,\n",
       "        7018.473 ,  6902.2295,  6747.059 ,  6894.373 ,  6739.5366,\n",
       "        6329.6875,  6067.1846,  6005.6343,  5905.372 ,  6082.4155,\n",
       "        6352.6616,  6398.9834,  6445.4053,  6491.6797,  6654.21  ,\n",
       "        6654.234 ,  6762.5015,  6902.2534,  6615.5303,  6553.685 ,\n",
       "        6491.731 ,  6599.9976,  6747.0796,  6863.35  ,  6964.1   ,\n",
       "        7181.4985,  7352.5093,  7562.69  ,  7656.214 ,  7734.162 ,\n",
       "        8007.3887,  8108.9937,  8257.677 ,  8751.645 ,  8987.242 ,\n",
       "        8782.938 ,  8665.138 ,  8382.882 ,  8335.978 ,  8735.86  ,\n",
       "        8814.352 ,  8704.399 ,  8688.769 ,  8900.853 ,  8995.16  ,\n",
       "        8861.455 ,  8649.477 ,  8563.155 ,  8429.916 ,  8476.948 ,\n",
       "        8578.888 ,  8688.739 ,  8767.249 ,  8830.104 ,  8877.222 ,\n",
       "        8853.66  ,  8806.478 ,  8712.291 ,  8775.093 ,  8861.575 ,\n",
       "        9073.883 ,  9215.635 ,  9420.613 ,  9617.905 ,  9673.126 ,\n",
       "        9609.939 ,  9562.56  ,  9538.902 ,  9523.07  ,  9586.425 ,\n",
       "        9839.173 ,  9791.659 ,  9744.346 ,  9855.015 ,  9870.793 ,\n",
       "        9855.015 , 10005.554 , 10259.    , 10235.092 , 10171.826 ,\n",
       "       10306.639 , 10370.029 , 10338.311 , 10250.903 , 10084.588 ,\n",
       "       10132.17  , 10179.652 , 10179.729 , 10259.    , 10362.245 ,\n",
       "       10696.228 , 11142.049 , 11277.586 , 11341.566 , 11381.256 ,\n",
       "       11053.733 , 10401.45  , 10156.234 , 10720.043 , 11038.201 ,\n",
       "       10966.423 , 10886.849 , 10655.655 , 10378.332 , 10655.903 ,\n",
       "       10425.532 , 10171.536 ,  9957.973 , 10052.819 ,  9949.939 ,\n",
       "       10053.077 , 10449.751 , 10711.635 , 10592.448 , 10560.643 ,\n",
       "       10512.967 , 10576.751 , 10847.201 , 11062.277 , 11181.809 ,\n",
       "       11173.757 , 11093.977 , 11046.243 , 11038.15  , 10942.571 ,\n",
       "       10886.8   , 10711.502 , 10497.18  , 10600.459 , 10751.733 ,\n",
       "       10870.744 , 10743.66  , 10775.269 , 10719.841 , 10902.861 ,\n",
       "       10918.575 , 10815.239 , 10854.9795, 10950.817 , 11189.808 ,\n",
       "       11229.689 , 11181.646 , 11046.189 , 11038.253 , 11062.17  ,\n",
       "       11070.107 , 11070.16  , 11030.11  , 10902.811 , 11190.393 ,\n",
       "       11918.191 , 12278.483 , 12134.146 , 12134.146 , 11997.372 ,\n",
       "       11853.809 , 12061.783 , 11933.509 , 11893.584 , 11917.499 ,\n",
       "       11877.511 , 11973.915 , 12053.671 , 11965.873 , 12110.067 ,\n",
       "       11997.437 , 11701.09  , 11798.05  , 12230.357 , 12206.622 ,\n",
       "       12593.145 , 13051.741 , 12922.444 , 12834.258 , 12987.285 ,\n",
       "       12906.259 , 12640.41  , 12439.289 , 12359.158 , 12326.622 ,\n",
       "       11981.291 , 11701.34  , 11781.436 , 11853.471 , 11813.239 ,\n",
       "       11548.879 , 11157.661 , 11174.2705, 11413.011 , 11165.925 ,\n",
       "       11349.692 , 11445.048 , 11173.705 , 11062.117 , 11110.179 ,\n",
       "       11301.597 , 11413.469 , 11509.267 , 11469.197 , 11349.343 ,\n",
       "       11317.6045, 11309.265 , 11110.014 , 11085.985 , 11038.307 ,\n",
       "       11086.038 , 11166.095 , 11389.38  , 11365.355 , 11317.492 ,\n",
       "       11253.472 , 11101.968 , 11046.189 , 10998.314 , 11038.469 ,\n",
       "       11229.636 , 11157.767 , 11174.035 , 11389.438 , 11381.256 ,\n",
       "       11221.581 , 11125.948 , 11062.014 , 10918.673 , 10902.811 ,\n",
       "       10870.792 , 10743.565 ], dtype=float32)"
      ]
     },
     "execution_count": 244,
     "metadata": {},
     "output_type": "execute_result"
    }
   ],
   "source": [
    "predicted_price = predicted_price[:, 0]\n",
    "predicted_price"
   ]
  },
  {
   "cell_type": "markdown",
   "metadata": {
    "id": "Bf0ic3wTMMza"
   },
   "source": [
    "Since the MSE and RMSE is quite less for both: the training as well as the test data, our model does a great job."
   ]
  },
  {
   "cell_type": "code",
   "execution_count": 245,
   "metadata": {
    "colab": {
     "base_uri": "https://localhost:8080/"
    },
    "id": "HAltr6jU3M6E",
    "outputId": "0b3302bd-d740-47ef-f588-8ecc19e7277f"
   },
   "outputs": [
    {
     "data": {
      "text/plain": [
       "array([13617.631 , 13431.464 , 13294.093 , 13302.474 , 13407.372 ,\n",
       "       13456.195 , 13569.221 , 13455.65  , 13367.2295, 13536.986 ],\n",
       "      dtype=float32)"
      ]
     },
     "execution_count": 245,
     "metadata": {},
     "output_type": "execute_result"
    }
   ],
   "source": [
    "predicted_price[:10]"
   ]
  },
  {
   "cell_type": "code",
   "execution_count": 246,
   "metadata": {
    "colab": {
     "base_uri": "https://localhost:8080/"
    },
    "id": "z5xSsN_kfjCw",
    "outputId": "a07b2786-e622-4ae8-f9a1-9d75f07e0552"
   },
   "outputs": [
    {
     "data": {
      "text/plain": [
       "array([[13325.],\n",
       "       [13250.],\n",
       "       [13425.],\n",
       "       [13400.],\n",
       "       [13600.],\n",
       "       [13550.],\n",
       "       [13300.],\n",
       "       [13525.],\n",
       "       [13600.],\n",
       "       [14100.]])"
      ]
     },
     "execution_count": 246,
     "metadata": {},
     "output_type": "execute_result"
    }
   ],
   "source": [
    "y_test = y_test.reshape(y_test.shape[0] , 1)\n",
    "y_test = scaler.inverse_transform(y_test)\n",
    "y_test[:10]"
   ]
  },
  {
   "cell_type": "code",
   "execution_count": 247,
   "metadata": {
    "colab": {
     "base_uri": "https://localhost:8080/"
    },
    "id": "SpuAdiBVnhUW",
    "outputId": "e7719427-cf5d-4c09-e07a-49e78a1315d8"
   },
   "outputs": [
    {
     "data": {
      "text/plain": [
       "array([[  292.63085937,   106.46386719,   -30.90722656, ...,\n",
       "        -2422.18945313, -2454.20800781, -2581.43457031],\n",
       "       [  367.63085938,   181.46386719,    44.09277344, ...,\n",
       "        -2347.18945312, -2379.20800781, -2506.43457031],\n",
       "       [  192.63085938,     6.46386719,  -130.90722656, ...,\n",
       "        -2522.18945312, -2554.20800781, -2681.43457031],\n",
       "       ...,\n",
       "       [   92.63085938,   -93.53613281,  -230.90722656, ...,\n",
       "        -2622.18945312, -2654.20800781, -2781.43457031],\n",
       "       [   17.63085938,  -168.53613281,  -305.90722656, ...,\n",
       "        -2697.18945312, -2729.20800781, -2856.43457031],\n",
       "       [ -482.36914062,  -668.53613281,  -805.90722656, ...,\n",
       "        -3197.18945312, -3229.20800781, -3356.43457031]])"
      ]
     },
     "execution_count": 247,
     "metadata": {},
     "output_type": "execute_result"
    }
   ],
   "source": [
    "#comparing the first 10 values of prediction for our data\n",
    "diff = predicted_price-y_test\n",
    "diff[:10]"
   ]
  },
  {
   "cell_type": "code",
   "execution_count": 248,
   "metadata": {},
   "outputs": [
    {
     "data": {
      "text/html": [
       "<div>\n",
       "<style scoped>\n",
       "    .dataframe tbody tr th:only-of-type {\n",
       "        vertical-align: middle;\n",
       "    }\n",
       "\n",
       "    .dataframe tbody tr th {\n",
       "        vertical-align: top;\n",
       "    }\n",
       "\n",
       "    .dataframe thead th {\n",
       "        text-align: right;\n",
       "    }\n",
       "</style>\n",
       "<table border=\"1\" class=\"dataframe\">\n",
       "  <thead>\n",
       "    <tr style=\"text-align: right;\">\n",
       "      <th></th>\n",
       "      <th>Date</th>\n",
       "      <th>Open</th>\n",
       "      <th>High</th>\n",
       "      <th>Low</th>\n",
       "      <th>Close</th>\n",
       "      <th>Adj Close</th>\n",
       "      <th>Volume</th>\n",
       "    </tr>\n",
       "  </thead>\n",
       "  <tbody>\n",
       "    <tr>\n",
       "      <th>0</th>\n",
       "      <td>2019-12-11</td>\n",
       "      <td>13450.0</td>\n",
       "      <td>13500.0</td>\n",
       "      <td>13275.0</td>\n",
       "      <td>13325.0</td>\n",
       "      <td>13195.001953</td>\n",
       "      <td>626400</td>\n",
       "    </tr>\n",
       "    <tr>\n",
       "      <th>1</th>\n",
       "      <td>2019-12-12</td>\n",
       "      <td>13300.0</td>\n",
       "      <td>13475.0</td>\n",
       "      <td>13125.0</td>\n",
       "      <td>13250.0</td>\n",
       "      <td>13120.733398</td>\n",
       "      <td>865100</td>\n",
       "    </tr>\n",
       "    <tr>\n",
       "      <th>2</th>\n",
       "      <td>2019-12-13</td>\n",
       "      <td>13250.0</td>\n",
       "      <td>13625.0</td>\n",
       "      <td>13250.0</td>\n",
       "      <td>13425.0</td>\n",
       "      <td>13294.026367</td>\n",
       "      <td>441900</td>\n",
       "    </tr>\n",
       "    <tr>\n",
       "      <th>3</th>\n",
       "      <td>2019-12-16</td>\n",
       "      <td>13425.0</td>\n",
       "      <td>13500.0</td>\n",
       "      <td>13175.0</td>\n",
       "      <td>13400.0</td>\n",
       "      <td>13269.270508</td>\n",
       "      <td>782400</td>\n",
       "    </tr>\n",
       "    <tr>\n",
       "      <th>4</th>\n",
       "      <td>2019-12-17</td>\n",
       "      <td>13400.0</td>\n",
       "      <td>13675.0</td>\n",
       "      <td>13400.0</td>\n",
       "      <td>13600.0</td>\n",
       "      <td>13467.319336</td>\n",
       "      <td>873700</td>\n",
       "    </tr>\n",
       "    <tr>\n",
       "      <th>...</th>\n",
       "      <td>...</td>\n",
       "      <td>...</td>\n",
       "      <td>...</td>\n",
       "      <td>...</td>\n",
       "      <td>...</td>\n",
       "      <td>...</td>\n",
       "      <td>...</td>\n",
       "    </tr>\n",
       "    <tr>\n",
       "      <th>309</th>\n",
       "      <td>2021-03-24</td>\n",
       "      <td>10900.0</td>\n",
       "      <td>10900.0</td>\n",
       "      <td>10600.0</td>\n",
       "      <td>10650.0</td>\n",
       "      <td>10650.000000</td>\n",
       "      <td>1461500</td>\n",
       "    </tr>\n",
       "    <tr>\n",
       "      <th>310</th>\n",
       "      <td>2021-03-25</td>\n",
       "      <td>10650.0</td>\n",
       "      <td>10700.0</td>\n",
       "      <td>10575.0</td>\n",
       "      <td>10650.0</td>\n",
       "      <td>10650.000000</td>\n",
       "      <td>699700</td>\n",
       "    </tr>\n",
       "    <tr>\n",
       "      <th>311</th>\n",
       "      <td>2021-03-26</td>\n",
       "      <td>10625.0</td>\n",
       "      <td>10850.0</td>\n",
       "      <td>10500.0</td>\n",
       "      <td>10775.0</td>\n",
       "      <td>10775.000000</td>\n",
       "      <td>809900</td>\n",
       "    </tr>\n",
       "    <tr>\n",
       "      <th>312</th>\n",
       "      <td>2021-03-29</td>\n",
       "      <td>10775.0</td>\n",
       "      <td>10875.0</td>\n",
       "      <td>10600.0</td>\n",
       "      <td>10600.0</td>\n",
       "      <td>10600.000000</td>\n",
       "      <td>539300</td>\n",
       "    </tr>\n",
       "    <tr>\n",
       "      <th>313</th>\n",
       "      <td>2021-03-30</td>\n",
       "      <td>10600.0</td>\n",
       "      <td>10725.0</td>\n",
       "      <td>10125.0</td>\n",
       "      <td>10175.0</td>\n",
       "      <td>10175.000000</td>\n",
       "      <td>2156900</td>\n",
       "    </tr>\n",
       "  </tbody>\n",
       "</table>\n",
       "<p>314 rows × 7 columns</p>\n",
       "</div>"
      ],
      "text/plain": [
       "           Date     Open     High      Low    Close     Adj Close   Volume\n",
       "0    2019-12-11  13450.0  13500.0  13275.0  13325.0  13195.001953   626400\n",
       "1    2019-12-12  13300.0  13475.0  13125.0  13250.0  13120.733398   865100\n",
       "2    2019-12-13  13250.0  13625.0  13250.0  13425.0  13294.026367   441900\n",
       "3    2019-12-16  13425.0  13500.0  13175.0  13400.0  13269.270508   782400\n",
       "4    2019-12-17  13400.0  13675.0  13400.0  13600.0  13467.319336   873700\n",
       "..          ...      ...      ...      ...      ...           ...      ...\n",
       "309  2021-03-24  10900.0  10900.0  10600.0  10650.0  10650.000000  1461500\n",
       "310  2021-03-25  10650.0  10700.0  10575.0  10650.0  10650.000000   699700\n",
       "311  2021-03-26  10625.0  10850.0  10500.0  10775.0  10775.000000   809900\n",
       "312  2021-03-29  10775.0  10875.0  10600.0  10600.0  10600.000000   539300\n",
       "313  2021-03-30  10600.0  10725.0  10125.0  10175.0  10175.000000  2156900\n",
       "\n",
       "[314 rows x 7 columns]"
      ]
     },
     "execution_count": 248,
     "metadata": {},
     "output_type": "execute_result"
    }
   ],
   "source": [
    "import pandas_datareader as web\n",
    "#Get the stock quote\n",
    "deka = pd.read_csv(r'C:\\Users\\DELL\\KODINGAN TA\\DATA BARU TA 2\\test_plot\\AALI.test.csv')\n",
    "deka = deka.dropna()\n",
    "deka"
   ]
  },
  {
   "cell_type": "code",
   "execution_count": 43,
   "metadata": {},
   "outputs": [
    {
     "data": {
      "text/html": [
       "<div>\n",
       "<style scoped>\n",
       "    .dataframe tbody tr th:only-of-type {\n",
       "        vertical-align: middle;\n",
       "    }\n",
       "\n",
       "    .dataframe tbody tr th {\n",
       "        vertical-align: top;\n",
       "    }\n",
       "\n",
       "    .dataframe thead th {\n",
       "        text-align: right;\n",
       "    }\n",
       "</style>\n",
       "<table border=\"1\" class=\"dataframe\">\n",
       "  <thead>\n",
       "    <tr style=\"text-align: right;\">\n",
       "      <th></th>\n",
       "      <th>Harga</th>\n",
       "    </tr>\n",
       "  </thead>\n",
       "  <tbody>\n",
       "    <tr>\n",
       "      <th>0</th>\n",
       "      <td>13610.420898</td>\n",
       "    </tr>\n",
       "    <tr>\n",
       "      <th>1</th>\n",
       "      <td>13427.560547</td>\n",
       "    </tr>\n",
       "    <tr>\n",
       "      <th>2</th>\n",
       "      <td>13289.308594</td>\n",
       "    </tr>\n",
       "    <tr>\n",
       "      <th>3</th>\n",
       "      <td>13286.868164</td>\n",
       "    </tr>\n",
       "    <tr>\n",
       "      <th>4</th>\n",
       "      <td>13397.672852</td>\n",
       "    </tr>\n",
       "    <tr>\n",
       "      <th>...</th>\n",
       "      <td>...</td>\n",
       "    </tr>\n",
       "    <tr>\n",
       "      <th>307</th>\n",
       "      <td>11134.134766</td>\n",
       "    </tr>\n",
       "    <tr>\n",
       "      <th>308</th>\n",
       "      <td>10990.277344</td>\n",
       "    </tr>\n",
       "    <tr>\n",
       "      <th>309</th>\n",
       "      <td>10970.915039</td>\n",
       "    </tr>\n",
       "    <tr>\n",
       "      <th>310</th>\n",
       "      <td>10950.537109</td>\n",
       "    </tr>\n",
       "    <tr>\n",
       "      <th>311</th>\n",
       "      <td>10820.250977</td>\n",
       "    </tr>\n",
       "  </tbody>\n",
       "</table>\n",
       "<p>312 rows × 1 columns</p>\n",
       "</div>"
      ],
      "text/plain": [
       "            Harga\n",
       "0    13610.420898\n",
       "1    13427.560547\n",
       "2    13289.308594\n",
       "3    13286.868164\n",
       "4    13397.672852\n",
       "..            ...\n",
       "307  11134.134766\n",
       "308  10990.277344\n",
       "309  10970.915039\n",
       "310  10950.537109\n",
       "311  10820.250977\n",
       "\n",
       "[312 rows x 1 columns]"
      ]
     },
     "execution_count": 43,
     "metadata": {},
     "output_type": "execute_result"
    }
   ],
   "source": [
    "df_pred = pd.DataFrame(predicted_price, columns = ['Harga'])\n",
    "df_pred"
   ]
  },
  {
   "cell_type": "code",
   "execution_count": 44,
   "metadata": {},
   "outputs": [],
   "source": [
    "result = pd.concat([deka, df_pred], axis=1)\n",
    "result.to_csv (r'C:\\Users\\DELL\\KODINGAN TA\\DATA BARU TA 2\\test_plot\\AALI{}.csv'.format(fa), index = False, header=True)"
   ]
  },
  {
   "cell_type": "code",
   "execution_count": 45,
   "metadata": {},
   "outputs": [
    {
     "data": {
      "image/png": "[encoded data removed]",
      "text/plain": [
       "<Figure size 1080x504 with 1 Axes>"
      ]
     },
     "metadata": {
      "needs_background": "light"
     },
     "output_type": "display_data"
    }
   ],
   "source": [
    "result = pd.read_csv(r'C:\\Users\\DELL\\KODINGAN TA\\DATA BARU TA 2\\test_plot\\AALI{}.csv'.format(fa),index_col='Date',parse_dates=True,infer_datetime_format=True)\n",
    "plt.figure(figsize=(15,7))\n",
    "plt.title('Plot Prediksi Harga Saham AALI.JK - Fungsi Aktivasi {}'.format(fa))\n",
    "#We give the plot the data (the closing price of our stock)\n",
    "plt.plot(result['Close'])\n",
    "plt.plot(result['Harga'])\n",
    "#We label the axis\n",
    "plt.xlabel('Waktu', fontsize=18)\n",
    "plt.ylabel('Harga Saham (Rp.)', fontsize=18)\n",
    "plt.xticks( rotation =45)\n",
    "#We show the plot\n",
    "plt.legend(['Actual','Prediksi'], loc='upper right')\n",
    "plt.grid(True)\n",
    "plt.show()"
   ]
  },
  {
   "cell_type": "code",
   "execution_count": 46,
   "metadata": {
    "colab": {
     "base_uri": "https://localhost:8080/",
     "height": 476
    },
    "id": "_yIiNIL4Yeon",
    "outputId": "d2ed1bf6-d698-47f2-853e-ac05279510c1"
   },
   "outputs": [
    {
     "data": {
      "image/png": "[encoded data removed]",
      "text/plain": [
       "<Figure size 1080x504 with 1 Axes>"
      ]
     },
     "metadata": {
      "needs_background": "light"
     },
     "output_type": "display_data"
    }
   ],
   "source": [
    "#plotting the courves for the actual test values and the predicted values. \n",
    "#plotting the courves for the actual test values and the predicted values. \n",
    "\n",
    "plt.rcParams[\"figure.figsize\"] = (15,7)\n",
    "plt.plot(y_test , 'b')\n",
    "plt.plot(predicted_price , 'r')\n",
    "plt.xlabel('Waktu')\n",
    "plt.ylabel('Harga Saham')\n",
    "plt.title('Plot Prediksi Harga Saham AALI.JK - Fungsi Aktivasi {}'.format(fa))\n",
    "plt.legend(['Actual','Prediksi'], loc='upper right')\n",
    "plt.grid(False)\n",
    "plt.show()"
   ]
  },
  {
   "cell_type": "code",
   "execution_count": null,
   "metadata": {},
   "outputs": [],
   "source": []
  }
 ],
 "metadata": {
  "colab": {
   "collapsed_sections": [],
   "name": "stock-price-prediction-very-less-rmse-Copy1.ipynb",
   "provenance": []
  },
  "kernelspec": {
   "display_name": "Python 3",
   "language": "python",
   "name": "python3"
  },
  "language_info": {
   "codemirror_mode": {
    "name": "ipython",
    "version": 3
   },
   "file_extension": ".py",
   "mimetype": "text/x-python",
   "name": "python",
   "nbconvert_exporter": "python",
   "pygments_lexer": "ipython3",
   "version": "3.8.5"
  }
 },
 "nbformat": 4,
 "nbformat_minor": 1
}
